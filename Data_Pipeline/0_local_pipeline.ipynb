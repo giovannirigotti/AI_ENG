{
 "cells": [
  {
   "cell_type": "markdown",
   "id": "804ec002-1363-4150-a20e-f4123d056d42",
   "metadata": {},
   "source": [
    "# Chicago taxi tips Regression Pipeline local"
   ]
  },
  {
   "cell_type": "code",
   "execution_count": 1,
   "id": "3676f4be-583f-4a8e-a42b-36cd8820366e",
   "metadata": {},
   "outputs": [],
   "source": [
    "from sklearn.model_selection import train_test_split"
   ]
  },
  {
   "cell_type": "markdown",
   "id": "237c8c11-2c89-413a-a062-af1e0671dfa1",
   "metadata": {},
   "source": [
    "#### Create datasets compatible with xgboost model"
   ]
  },
  {
   "cell_type": "code",
   "execution_count": 2,
   "id": "068a4d00-0e2f-4519-8ce1-ec6659a56e8f",
   "metadata": {},
   "outputs": [],
   "source": [
    "def create_sets(data,label_column):\n",
    "    ### get label\n",
    "    label=data[label_column]\n",
    "    ### get features\n",
    "    data=data.drop([label_column],axis=1)\n",
    "    ### split\n",
    "    X_train, X_test, y_train, y_test = train_test_split(data, label, test_size=0.2, random_state=100)\n",
    "    ### group per train, test\n",
    "    dtrain = xgboost.DMatrix(X_train, label=y_train)\n",
    "    dtest = xgboost.DMatrix(X_test, label=y_test)\n",
    "    return dtrain, dtest \n",
    "    "
   ]
  },
  {
   "cell_type": "markdown",
   "id": "063f8574-48a4-4d34-85c1-1098c1b05919",
   "metadata": {},
   "source": [
    "#### Create callback to use xgboost with tensorboard"
   ]
  },
  {
   "cell_type": "code",
   "execution_count": 3,
   "id": "7bdf3442-b407-482a-902a-6d309d4efec2",
   "metadata": {
    "tags": []
   },
   "outputs": [
    {
     "name": "stdout",
     "output_type": "stream",
     "text": [
      "Requirement already satisfied: tensorboardX in /opt/conda/lib/python3.8/site-packages (2.6.2.2)\n",
      "Requirement already satisfied: protobuf>=3.20 in /opt/conda/lib/python3.8/site-packages (from tensorboardX) (4.25.1)\n",
      "Requirement already satisfied: packaging in /opt/conda/lib/python3.8/site-packages (from tensorboardX) (21.3)\n",
      "Requirement already satisfied: numpy in /opt/conda/lib/python3.8/site-packages (from tensorboardX) (1.22.4)\n",
      "Requirement already satisfied: pyparsing!=3.0.5,>=2.0.2 in /opt/conda/lib/python3.8/site-packages (from packaging->tensorboardX) (3.0.9)\n"
     ]
    }
   ],
   "source": [
    "!pip install tensorboardX"
   ]
  },
  {
   "cell_type": "code",
   "execution_count": 4,
   "id": "c6145394-6a0c-4b92-8d5e-3eb175040f3f",
   "metadata": {},
   "outputs": [],
   "source": [
    "from tensorboardX import SummaryWriter"
   ]
  },
  {
   "cell_type": "code",
   "execution_count": 5,
   "id": "abce4ccb-8144-45f1-8d5e-b56b2c3ee218",
   "metadata": {},
   "outputs": [],
   "source": [
    "def TensorBoardCallback(training_log_path):\n",
    "    writer = SummaryWriter(training_log_path)\n",
    "\n",
    "    def callback(env):\n",
    "        for k, v in env.evaluation_result_list:\n",
    "            print(k,v)\n",
    "            writer.add_scalar(k, v, env.iteration)\n",
    "\n",
    "    return callback"
   ]
  },
  {
   "cell_type": "markdown",
   "id": "e0133ee4-7324-46d2-af9c-b59a910aff2b",
   "metadata": {},
   "source": [
    "#### Create the main train function"
   ]
  },
  {
   "cell_type": "code",
   "execution_count": 6,
   "id": "f5cda9dc-03a9-43a2-b82f-5236e157f8f9",
   "metadata": {
    "tags": []
   },
   "outputs": [
    {
     "name": "stdout",
     "output_type": "stream",
     "text": [
      "Requirement already satisfied: xgboost==1.1.0 in /opt/conda/lib/python3.8/site-packages (1.1.0)\n",
      "Requirement already satisfied: scipy in /opt/conda/lib/python3.8/site-packages (from xgboost==1.1.0) (1.7.0)\n",
      "Requirement already satisfied: numpy in /opt/conda/lib/python3.8/site-packages (from xgboost==1.1.0) (1.22.4)\n"
     ]
    }
   ],
   "source": [
    "!pip install xgboost==1.1.0"
   ]
  },
  {
   "cell_type": "code",
   "execution_count": 7,
   "id": "cfabf6f6-4bdc-4b66-a761-a9f7bb62a151",
   "metadata": {},
   "outputs": [],
   "source": [
    "import xgboost"
   ]
  },
  {
   "cell_type": "code",
   "execution_count": 8,
   "id": "8f8652a8-be67-498b-908f-7cddf711e659",
   "metadata": {},
   "outputs": [],
   "source": [
    "def xgboost_train(data,label,num_iterations,training_log_path,booster_params):\n",
    "    \n",
    "    ### create train,test objects \n",
    "    dtrain, dtest = create_sets(data,label)\n",
    "    \n",
    "    # Booster parameters with default values\n",
    "    booster_params = booster_params or {}\n",
    "    booster_params.setdefault('objective', 'reg:squarederror')\n",
    "    booster_params.setdefault('booster', 'gbtree')\n",
    "    booster_params.setdefault('learning_rate', 0.3)\n",
    "    booster_params.setdefault('min_split_loss', 0)\n",
    "    booster_params.setdefault('max_depth', 6)\n",
    "    \n",
    "    num_iterations = num_iterations or 20\n",
    "    \n",
    "    ### create blank model\n",
    "    model = xgboost.train(\n",
    "        params=booster_params,\n",
    "        dtrain=dtrain,\n",
    "        num_boost_round=num_iterations,\n",
    "        evals=[(dtrain, 'train'), (dtest, 'test')],\n",
    "       callbacks=[TensorBoardCallback(training_log_path)]\n",
    "    )\n",
    "    return model"
   ]
  },
  {
   "cell_type": "markdown",
   "id": "d19cd7f3-713a-4578-ace4-927cca0b40ba",
   "metadata": {},
   "source": [
    "### Test the training"
   ]
  },
  {
   "cell_type": "markdown",
   "id": "ff968f20-3092-4ef7-8866-ac79c300b17f",
   "metadata": {},
   "source": [
    "##### Create minio client to get data"
   ]
  },
  {
   "cell_type": "code",
   "execution_count": 9,
   "id": "59aaf7ae-4249-490b-859e-b682ccabb899",
   "metadata": {},
   "outputs": [
    {
     "name": "stdout",
     "output_type": "stream",
     "text": [
      "Requirement already satisfied: pyarrow in /opt/conda/lib/python3.8/site-packages (14.0.1)\n",
      "Requirement already satisfied: numpy>=1.16.6 in /opt/conda/lib/python3.8/site-packages (from pyarrow) (1.22.4)\n"
     ]
    }
   ],
   "source": [
    "!pip install pyarrow"
   ]
  },
  {
   "cell_type": "code",
   "execution_count": 10,
   "id": "379ef00d-3190-4e2d-a812-0fa6098912f1",
   "metadata": {},
   "outputs": [],
   "source": [
    "from minio import Minio\n",
    "import urllib3\n",
    "from io import BytesIO\n",
    "import pandas as pd\n",
    "import pyarrow\n",
    "import datetime\n",
    "import os"
   ]
  },
  {
   "cell_type": "code",
   "execution_count": 11,
   "id": "f46c7a7d-a8e0-4498-9d2f-d5edd3c210ae",
   "metadata": {},
   "outputs": [],
   "source": [
    "## Create a client with the access key and the secret key given\n",
    "client = Minio(\n",
    "    \"storage-api.course.aiengineer.codex-platform.com\",\n",
    "    access_key=os.getenv(\"MINIO-ACCESS-KEY\"),\n",
    "    secret_key=os.getenv(\"MINIO-SECRET-KEY\"),\n",
    "    secure=True,\n",
    "    http_client=urllib3.PoolManager(\n",
    "        \n",
    "        retries=urllib3.Retry(\n",
    "            total=5,\n",
    "            backoff_factor=0.2,\n",
    "            status_forcelist=[500, 502, 503, 504],\n",
    "        ),\n",
    "    ),\n",
    ")"
   ]
  },
  {
   "cell_type": "code",
   "execution_count": 12,
   "id": "e53618da-890f-4401-ad1e-e558933546fb",
   "metadata": {},
   "outputs": [],
   "source": [
    "bucket_name = ''#firstname-name\n",
    "object_name = 'datasets/chicago/trips.parquet'"
   ]
  },
  {
   "cell_type": "code",
   "execution_count": 13,
   "id": "69963ded-4e47-4a80-b344-8e98a2441bd1",
   "metadata": {},
   "outputs": [],
   "source": [
    "# Get data from minio using get_object, decode it using BytesIO and read the parquet result with pandas\n",
    "try:\n",
    "    response = client.get_object(bucket_name, object_name)\n",
    "    # Read data from response.\n",
    "    parquet_object=BytesIO(response.data)\n",
    "    data = pd.read_parquet(parquet_object)\n",
    "finally:\n",
    "    response.close()\n",
    "    response.release_conn()"
   ]
  },
  {
   "cell_type": "code",
   "execution_count": 14,
   "id": "8c507d87-b82c-47d7-98fc-e437744c3908",
   "metadata": {},
   "outputs": [
    {
     "data": {
      "text/html": [
       "<div>\n",
       "<style scoped>\n",
       "    .dataframe tbody tr th:only-of-type {\n",
       "        vertical-align: middle;\n",
       "    }\n",
       "\n",
       "    .dataframe tbody tr th {\n",
       "        vertical-align: top;\n",
       "    }\n",
       "\n",
       "    .dataframe thead th {\n",
       "        text-align: right;\n",
       "    }\n",
       "</style>\n",
       "<table border=\"1\" class=\"dataframe\">\n",
       "  <thead>\n",
       "    <tr style=\"text-align: right;\">\n",
       "      <th></th>\n",
       "      <th>tips</th>\n",
       "      <th>trip_start_timestamp</th>\n",
       "      <th>trip_seconds</th>\n",
       "      <th>trip_miles</th>\n",
       "      <th>pickup_community_area</th>\n",
       "      <th>pickup_centroid_latitude</th>\n",
       "      <th>pickup_centroid_longitude</th>\n",
       "      <th>dropoff_community_area</th>\n",
       "      <th>fare</th>\n",
       "      <th>tolls</th>\n",
       "      <th>extras</th>\n",
       "      <th>trip_total</th>\n",
       "    </tr>\n",
       "  </thead>\n",
       "  <tbody>\n",
       "    <tr>\n",
       "      <th>0</th>\n",
       "      <td>0.00</td>\n",
       "      <td>2023-01-31T23:45:00.000</td>\n",
       "      <td>1719</td>\n",
       "      <td>15.10</td>\n",
       "      <td>76.0</td>\n",
       "      <td>41.980264</td>\n",
       "      <td>-87.913625</td>\n",
       "      <td>7.0</td>\n",
       "      <td>39.25</td>\n",
       "      <td>0.0</td>\n",
       "      <td>5.0</td>\n",
       "      <td>44.25</td>\n",
       "    </tr>\n",
       "    <tr>\n",
       "      <th>1</th>\n",
       "      <td>0.00</td>\n",
       "      <td>2023-01-31T23:45:00.000</td>\n",
       "      <td>1339</td>\n",
       "      <td>18.90</td>\n",
       "      <td>76.0</td>\n",
       "      <td>41.980264</td>\n",
       "      <td>-87.913625</td>\n",
       "      <td>33.0</td>\n",
       "      <td>46.75</td>\n",
       "      <td>0.0</td>\n",
       "      <td>4.0</td>\n",
       "      <td>50.75</td>\n",
       "    </tr>\n",
       "    <tr>\n",
       "      <th>2</th>\n",
       "      <td>0.00</td>\n",
       "      <td>2023-01-31T23:45:00.000</td>\n",
       "      <td>306</td>\n",
       "      <td>0.69</td>\n",
       "      <td>8.0</td>\n",
       "      <td>41.899602</td>\n",
       "      <td>-87.633308</td>\n",
       "      <td>8.0</td>\n",
       "      <td>5.50</td>\n",
       "      <td>0.0</td>\n",
       "      <td>0.0</td>\n",
       "      <td>5.50</td>\n",
       "    </tr>\n",
       "    <tr>\n",
       "      <th>3</th>\n",
       "      <td>0.00</td>\n",
       "      <td>2023-01-31T23:45:00.000</td>\n",
       "      <td>3664</td>\n",
       "      <td>13.94</td>\n",
       "      <td>76.0</td>\n",
       "      <td>41.980264</td>\n",
       "      <td>-87.913625</td>\n",
       "      <td>76.0</td>\n",
       "      <td>41.25</td>\n",
       "      <td>0.0</td>\n",
       "      <td>6.5</td>\n",
       "      <td>47.75</td>\n",
       "    </tr>\n",
       "    <tr>\n",
       "      <th>4</th>\n",
       "      <td>5.12</td>\n",
       "      <td>2023-01-31T23:45:00.000</td>\n",
       "      <td>5</td>\n",
       "      <td>0.00</td>\n",
       "      <td>NaN</td>\n",
       "      <td>NaN</td>\n",
       "      <td>NaN</td>\n",
       "      <td>NaN</td>\n",
       "      <td>20.00</td>\n",
       "      <td>0.0</td>\n",
       "      <td>0.0</td>\n",
       "      <td>25.62</td>\n",
       "    </tr>\n",
       "  </tbody>\n",
       "</table>\n",
       "</div>"
      ],
      "text/plain": [
       "   tips     trip_start_timestamp  trip_seconds  trip_miles  \\\n",
       "0  0.00  2023-01-31T23:45:00.000          1719       15.10   \n",
       "1  0.00  2023-01-31T23:45:00.000          1339       18.90   \n",
       "2  0.00  2023-01-31T23:45:00.000           306        0.69   \n",
       "3  0.00  2023-01-31T23:45:00.000          3664       13.94   \n",
       "4  5.12  2023-01-31T23:45:00.000             5        0.00   \n",
       "\n",
       "   pickup_community_area  pickup_centroid_latitude  pickup_centroid_longitude  \\\n",
       "0                   76.0                 41.980264                 -87.913625   \n",
       "1                   76.0                 41.980264                 -87.913625   \n",
       "2                    8.0                 41.899602                 -87.633308   \n",
       "3                   76.0                 41.980264                 -87.913625   \n",
       "4                    NaN                       NaN                        NaN   \n",
       "\n",
       "   dropoff_community_area   fare  tolls  extras  trip_total  \n",
       "0                     7.0  39.25    0.0     5.0       44.25  \n",
       "1                    33.0  46.75    0.0     4.0       50.75  \n",
       "2                     8.0   5.50    0.0     0.0        5.50  \n",
       "3                    76.0  41.25    0.0     6.5       47.75  \n",
       "4                     NaN  20.00    0.0     0.0       25.62  "
      ]
     },
     "execution_count": 14,
     "metadata": {},
     "output_type": "execute_result"
    }
   ],
   "source": [
    "data.head()"
   ]
  },
  {
   "cell_type": "code",
   "execution_count": 15,
   "id": "d1c084e2-5958-4f9f-a88b-38dcf25d6a79",
   "metadata": {},
   "outputs": [],
   "source": [
    "data = data.drop([\"trip_start_timestamp\"],axis=1).dropna()"
   ]
  },
  {
   "cell_type": "code",
   "execution_count": 19,
   "id": "e8c1e127-4443-492a-a688-09a41464b0f1",
   "metadata": {},
   "outputs": [
    {
     "name": "stdout",
     "output_type": "stream",
     "text": [
      "train-rmse 2.669143\n",
      "test-rmse 2.652077\n",
      "[0]\ttrain-rmse:2.66914\ttest-rmse:2.65208\n",
      "train-rmse 2.071043\n",
      "test-rmse 2.124333\n",
      "[1]\ttrain-rmse:2.07104\ttest-rmse:2.12433\n",
      "train-rmse 1.664521\n",
      "test-rmse 1.784089\n",
      "[2]\ttrain-rmse:1.66452\ttest-rmse:1.78409\n",
      "train-rmse 1.356828\n",
      "test-rmse 1.537212\n",
      "[3]\ttrain-rmse:1.35683\ttest-rmse:1.53721\n",
      "train-rmse 1.107906\n",
      "test-rmse 1.345601\n",
      "[4]\ttrain-rmse:1.10791\ttest-rmse:1.34560\n",
      "train-rmse 0.957096\n",
      "test-rmse 1.242852\n",
      "[5]\ttrain-rmse:0.95710\ttest-rmse:1.24285\n",
      "train-rmse 0.834758\n",
      "test-rmse 1.167556\n",
      "[6]\ttrain-rmse:0.83476\ttest-rmse:1.16756\n",
      "train-rmse 0.7412\n",
      "test-rmse 1.093985\n",
      "[7]\ttrain-rmse:0.74120\ttest-rmse:1.09398\n",
      "train-rmse 0.670638\n",
      "test-rmse 1.056987\n",
      "[8]\ttrain-rmse:0.67064\ttest-rmse:1.05699\n",
      "train-rmse 0.61144\n",
      "test-rmse 1.027255\n",
      "[9]\ttrain-rmse:0.61144\ttest-rmse:1.02726\n",
      "train-rmse 0.558424\n",
      "test-rmse 1.007237\n",
      "[10]\ttrain-rmse:0.55842\ttest-rmse:1.00724\n",
      "train-rmse 0.519311\n",
      "test-rmse 0.982687\n",
      "[11]\ttrain-rmse:0.51931\ttest-rmse:0.98269\n",
      "train-rmse 0.487045\n",
      "test-rmse 0.972495\n",
      "[12]\ttrain-rmse:0.48705\ttest-rmse:0.97249\n",
      "train-rmse 0.446427\n",
      "test-rmse 0.943901\n",
      "[13]\ttrain-rmse:0.44643\ttest-rmse:0.94390\n",
      "train-rmse 0.422256\n",
      "test-rmse 0.930079\n",
      "[14]\ttrain-rmse:0.42226\ttest-rmse:0.93008\n",
      "train-rmse 0.396805\n",
      "test-rmse 0.908557\n",
      "[15]\ttrain-rmse:0.39681\ttest-rmse:0.90856\n",
      "train-rmse 0.380263\n",
      "test-rmse 0.905285\n",
      "[16]\ttrain-rmse:0.38026\ttest-rmse:0.90529\n",
      "train-rmse 0.362464\n",
      "test-rmse 0.888197\n",
      "[17]\ttrain-rmse:0.36246\ttest-rmse:0.88820\n",
      "train-rmse 0.33794\n",
      "test-rmse 0.874248\n",
      "[18]\ttrain-rmse:0.33794\ttest-rmse:0.87425\n",
      "train-rmse 0.321001\n",
      "test-rmse 0.863856\n",
      "[19]\ttrain-rmse:0.32100\ttest-rmse:0.86386\n"
     ]
    },
    {
     "data": {
      "text/plain": [
       "<xgboost.core.Booster at 0x7f65b85a8e50>"
      ]
     },
     "execution_count": 19,
     "metadata": {},
     "output_type": "execute_result"
    }
   ],
   "source": [
    "xgboost_train(\n",
    "    data=data,\n",
    "    label='tips',\n",
    "    num_iterations=20,    \n",
    "    training_log_path=f\"training/fit/taxi-trips/{datetime.datetime.now().strftime('%Y%m%d-%H%M%S')}\",\n",
    "    booster_params={}\n",
    ")"
   ]
  },
  {
   "cell_type": "markdown",
   "id": "59443778-74ed-4c29-a6b5-84896aa4f58d",
   "metadata": {},
   "source": [
    "### Now connect to your tensorboard and check the loss"
   ]
  },
  {
   "cell_type": "markdown",
   "id": "9211c1a6-3b05-4ef1-9357-84927aa5ddf7",
   "metadata": {},
   "source": [
    "1. Go to the Kubeflow interface and click on 'tensorboard'\n",
    "\n",
    "![menu_tenso](./images/menu_tenso.png)"
   ]
  },
  {
   "cell_type": "markdown",
   "id": "55e460e1",
   "metadata": {},
   "source": [
    "2. click on 'new' \n",
    "\n",
    "![new](./images/new.png)"
   ]
  },
  {
   "cell_type": "markdown",
   "id": "89da9cb9",
   "metadata": {},
   "source": [
    "3. link it to your lab, where you persist your training logs\n",
    "\n",
    "![board](./images/board.png)"
   ]
  },
  {
   "cell_type": "markdown",
   "id": "df7df5b4",
   "metadata": {},
   "source": [
    "4. click `connect` and you should be able to see your train metrics\n",
    "\n",
    "![tenso](./images/tenso.png)"
   ]
  }
 ],
 "metadata": {
  "kernelspec": {
   "display_name": "Python 3 (ipykernel)",
   "language": "python",
   "name": "python3"
  },
  "language_info": {
   "codemirror_mode": {
    "name": "ipython",
    "version": 3
   },
   "file_extension": ".py",
   "mimetype": "text/x-python",
   "name": "python",
   "nbconvert_exporter": "python",
   "pygments_lexer": "ipython3",
   "version": "3.8.10"
  },
  "vscode": {
   "interpreter": {
    "hash": "1db6d0c0fb62fcd92812f526c45c77dc568410c92bb0ad7cc615a53ad33175c5"
   }
  }
 },
 "nbformat": 4,
 "nbformat_minor": 5
}
