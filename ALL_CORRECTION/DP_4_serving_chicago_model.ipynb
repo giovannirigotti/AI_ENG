{
 "cells": [
  {
   "cell_type": "markdown",
   "id": "ba77ef85-00a0-400b-ab16-178af747248d",
   "metadata": {},
   "source": [
    "# Model serving using Kserve"
   ]
  },
  {
   "cell_type": "markdown",
   "id": "3c23ee14-05c5-4342-97df-e945d4d4a10c",
   "metadata": {},
   "source": [
    "In the previous labs you learned how train and export a model to storage, now we will use this model for simple online predictions"
   ]
  },
  {
   "cell_type": "code",
   "execution_count": 2,
   "id": "67f7ae9d-bf2f-4853-b92d-75998f15dcc3",
   "metadata": {
    "collapsed": true,
    "jupyter": {
     "outputs_hidden": true
    },
    "tags": []
   },
   "outputs": [
    {
     "name": "stdout",
     "output_type": "stream",
     "text": [
      "Collecting kserve\n",
      "  Downloading kserve-0.11.1-py3-none-any.whl (344 kB)\n",
      "\u001b[2K     \u001b[90m━━━━━━━━━━━━━━━━━━━━━━━━━━━━━━━━━━━━━━━\u001b[0m \u001b[32m344.3/344.3 kB\u001b[0m \u001b[31m8.4 MB/s\u001b[0m eta \u001b[36m0:00:00\u001b[0m00:01\u001b[0m\n",
      "\u001b[?25hCollecting ray[serve]<2.5.0,>=2.4.0\n",
      "  Downloading ray-2.4.0-cp38-cp38-manylinux2014_x86_64.whl (58.6 MB)\n",
      "\u001b[2K     \u001b[90m━━━━━━━━━━━━━━━━━━━━━━━━━━━━━━━━━━━━━━━━\u001b[0m \u001b[32m58.6/58.6 MB\u001b[0m \u001b[31m10.1 MB/s\u001b[0m eta \u001b[36m0:00:00\u001b[0m00:01\u001b[0m00:01\u001b[0m\n",
      "\u001b[?25hRequirement already satisfied: six<2.0.0,>=1.16.0 in /opt/conda/lib/python3.8/site-packages (from kserve) (1.16.0)\n",
      "Requirement already satisfied: tabulate<0.10.0,>=0.9.0 in /opt/conda/lib/python3.8/site-packages (from kserve) (0.9.0)\n",
      "Collecting uvicorn[standard]<0.20.0,>=0.19.0\n",
      "  Downloading uvicorn-0.19.0-py3-none-any.whl (56 kB)\n",
      "\u001b[2K     \u001b[90m━━━━━━━━━━━━━━━━━━━━━━━━━━━━━━━━━━━━━━━━\u001b[0m \u001b[32m56.6/56.6 kB\u001b[0m \u001b[31m7.5 MB/s\u001b[0m eta \u001b[36m0:00:00\u001b[0m\n",
      "\u001b[?25hCollecting tritonclient<3.0.0,>=2.18.0\n",
      "  Downloading tritonclient-2.39.0-py3-none-manylinux1_x86_64.whl (12.4 MB)\n",
      "\u001b[2K     \u001b[90m━━━━━━━━━━━━━━━━━━━━━━━━━━━━━━━━━━━━━━━━\u001b[0m \u001b[32m12.4/12.4 MB\u001b[0m \u001b[31m30.4 MB/s\u001b[0m eta \u001b[36m0:00:00\u001b[0m00:01\u001b[0m00:01\u001b[0m\n",
      "\u001b[?25hCollecting prometheus-client<0.14.0,>=0.13.1\n",
      "  Downloading prometheus_client-0.13.1-py3-none-any.whl (57 kB)\n",
      "\u001b[2K     \u001b[90m━━━━━━━━━━━━━━━━━━━━━━━━━━━━━━━━━━━━━━━━\u001b[0m \u001b[32m57.1/57.1 kB\u001b[0m \u001b[31m2.1 MB/s\u001b[0m eta \u001b[36m0:00:00\u001b[0m\n",
      "\u001b[?25hRequirement already satisfied: protobuf<4.0.0,>=3.19.0 in /opt/conda/lib/python3.8/site-packages (from kserve) (3.20.0)\n",
      "Collecting kubernetes>=23.3.0\n",
      "  Downloading kubernetes-28.1.0-py2.py3-none-any.whl (1.6 MB)\n",
      "\u001b[2K     \u001b[90m━━━━━━━━━━━━━━━━━━━━━━━━━━━━━━━━━━━━━━━━\u001b[0m \u001b[32m1.6/1.6 MB\u001b[0m \u001b[31m23.5 MB/s\u001b[0m eta \u001b[36m0:00:00\u001b[0m00:01\u001b[0m\n",
      "\u001b[?25hCollecting timing-asgi<0.4.0,>=0.3.0\n",
      "  Downloading timing_asgi-0.3.1-py3-none-any.whl (5.6 kB)\n",
      "Collecting fastapi<0.96.0,>=0.95.0\n",
      "  Downloading fastapi-0.95.2-py3-none-any.whl (56 kB)\n",
      "\u001b[2K     \u001b[90m━━━━━━━━━━━━━━━━━━━━━━━━━━━━━━━━━━━━━━━━\u001b[0m \u001b[32m57.0/57.0 kB\u001b[0m \u001b[31m6.6 MB/s\u001b[0m eta \u001b[36m0:00:00\u001b[0m\n",
      "\u001b[?25hCollecting cloudevents<2.0.0,>=1.6.2\n",
      "  Downloading cloudevents-1.10.1-py3-none-any.whl (55 kB)\n",
      "\u001b[2K     \u001b[90m━━━━━━━━━━━━━━━━━━━━━━━━━━━━━━━━━━━━━━━━\u001b[0m \u001b[32m55.0/55.0 kB\u001b[0m \u001b[31m6.3 MB/s\u001b[0m eta \u001b[36m0:00:00\u001b[0m\n",
      "\u001b[?25hRequirement already satisfied: python-dateutil<3.0.0,>=2.8.0 in /opt/conda/lib/python3.8/site-packages (from kserve) (2.8.2)\n",
      "Collecting grpcio<2.0.0,>=1.49.1\n",
      "  Downloading grpcio-1.59.2-cp38-cp38-manylinux_2_17_x86_64.manylinux2014_x86_64.whl (5.3 MB)\n",
      "\u001b[2K     \u001b[90m━━━━━━━━━━━━━━━━━━━━━━━━━━━━━━━━━━━━━━━━\u001b[0m \u001b[32m5.3/5.3 MB\u001b[0m \u001b[31m26.6 MB/s\u001b[0m eta \u001b[36m0:00:00\u001b[0m00:01\u001b[0m00:01\u001b[0m\n",
      "\u001b[?25hCollecting numpy<2.0.0,>=1.23.5\n",
      "  Downloading numpy-1.24.4-cp38-cp38-manylinux_2_17_x86_64.manylinux2014_x86_64.whl (17.3 MB)\n",
      "\u001b[2K     \u001b[90m━━━━━━━━━━━━━━━━━━━━━━━━━━━━━━━━━━━━━━━━\u001b[0m \u001b[32m17.3/17.3 MB\u001b[0m \u001b[31m29.7 MB/s\u001b[0m eta \u001b[36m0:00:00\u001b[0m00:01\u001b[0m00:01\u001b[0m\n",
      "\u001b[?25hCollecting pandas>=1.3.5\n",
      "  Downloading pandas-2.0.3-cp38-cp38-manylinux_2_17_x86_64.manylinux2014_x86_64.whl (12.4 MB)\n",
      "\u001b[2K     \u001b[90m━━━━━━━━━━━━━━━━━━━━━━━━━━━━━━━━━━━━━━━━\u001b[0m \u001b[32m12.4/12.4 MB\u001b[0m \u001b[31m30.5 MB/s\u001b[0m eta \u001b[36m0:00:00\u001b[0m00:01\u001b[0m0:01\u001b[0m\n",
      "\u001b[?25hCollecting httpx<0.24.0,>=0.23.0\n",
      "  Downloading httpx-0.23.3-py3-none-any.whl (71 kB)\n",
      "\u001b[2K     \u001b[90m━━━━━━━━━━━━━━━━━━━━━━━━━━━━━━━━━━━━━━━\u001b[0m \u001b[32m71.5/71.5 kB\u001b[0m \u001b[31m817.4 kB/s\u001b[0m eta \u001b[36m0:00:00\u001b[0ma \u001b[36m0:00:01\u001b[0m\n",
      "\u001b[?25hRequirement already satisfied: psutil<6.0.0,>=5.9.0 in /opt/conda/lib/python3.8/site-packages (from kserve) (5.9.2)\n",
      "Collecting orjson<4.0.0,>=3.8.0\n",
      "  Downloading orjson-3.9.10-cp38-cp38-manylinux_2_17_x86_64.manylinux2014_x86_64.whl (138 kB)\n",
      "\u001b[2K     \u001b[90m━━━━━━━━━━━━━━━━━━━━━━━━━━━━━━━━━━━━━━━\u001b[0m \u001b[32m138.5/138.5 kB\u001b[0m \u001b[31m5.8 MB/s\u001b[0m eta \u001b[36m0:00:00\u001b[0m\n",
      "\u001b[?25hRequirement already satisfied: deprecation<3.0,>=2.0 in /opt/conda/lib/python3.8/site-packages (from cloudevents<2.0.0,>=1.6.2->kserve) (2.1.0)\n",
      "Collecting pydantic!=1.7,!=1.7.1,!=1.7.2,!=1.7.3,!=1.8,!=1.8.1,<2.0.0,>=1.6.2\n",
      "  Downloading pydantic-1.10.13-cp38-cp38-manylinux_2_17_x86_64.manylinux2014_x86_64.whl (3.2 MB)\n",
      "\u001b[2K     \u001b[90m━━━━━━━━━━━━━━━━━━━━━━━━━━━━━━━━━━━━━━━━\u001b[0m \u001b[32m3.2/3.2 MB\u001b[0m \u001b[31m10.0 MB/s\u001b[0m eta \u001b[36m0:00:00\u001b[0m00:01\u001b[0m00:01\u001b[0m\n",
      "\u001b[?25hCollecting starlette<0.28.0,>=0.27.0\n",
      "  Downloading starlette-0.27.0-py3-none-any.whl (66 kB)\n",
      "\u001b[2K     \u001b[90m━━━━━━━━━━━━━━━━━━━━━━━━━━━━━━━━━━━━━━━━\u001b[0m \u001b[32m67.0/67.0 kB\u001b[0m \u001b[31m1.1 MB/s\u001b[0m eta \u001b[36m0:00:00\u001b[0mta \u001b[36m0:00:01\u001b[0m\n",
      "\u001b[?25hRequirement already satisfied: certifi in /opt/conda/lib/python3.8/site-packages (from httpx<0.24.0,>=0.23.0->kserve) (2022.9.24)\n",
      "Requirement already satisfied: sniffio in /opt/conda/lib/python3.8/site-packages (from httpx<0.24.0,>=0.23.0->kserve) (1.3.0)\n",
      "Collecting rfc3986[idna2008]<2,>=1.3\n",
      "  Downloading rfc3986-1.5.0-py2.py3-none-any.whl (31 kB)\n",
      "Collecting httpcore<0.17.0,>=0.15.0\n",
      "  Downloading httpcore-0.16.3-py3-none-any.whl (69 kB)\n",
      "\u001b[2K     \u001b[90m━━━━━━━━━━━━━━━━━━━━━━━━━━━━━━━━━━━━━━━━\u001b[0m \u001b[32m69.6/69.6 kB\u001b[0m \u001b[31m3.9 MB/s\u001b[0m eta \u001b[36m0:00:00\u001b[0m\n",
      "\u001b[?25hRequirement already satisfied: google-auth>=1.0.1 in /opt/conda/lib/python3.8/site-packages (from kubernetes>=23.3.0->kserve) (1.35.0)\n",
      "Requirement already satisfied: urllib3<2.0,>=1.24.2 in /opt/conda/lib/python3.8/site-packages (from kubernetes>=23.3.0->kserve) (1.26.11)\n",
      "Requirement already satisfied: requests in /opt/conda/lib/python3.8/site-packages (from kubernetes>=23.3.0->kserve) (2.28.1)\n",
      "Collecting oauthlib>=3.2.2\n",
      "  Downloading oauthlib-3.2.2-py3-none-any.whl (151 kB)\n",
      "\u001b[2K     \u001b[90m━━━━━━━━━━━━━━━━━━━━━━━━━━━━━━━━━━━━━━━\u001b[0m \u001b[32m151.7/151.7 kB\u001b[0m \u001b[31m7.9 MB/s\u001b[0m eta \u001b[36m0:00:00\u001b[0m\n",
      "\u001b[?25hRequirement already satisfied: websocket-client!=0.40.0,!=0.41.*,!=0.42.*,>=0.32.0 in /opt/conda/lib/python3.8/site-packages (from kubernetes>=23.3.0->kserve) (1.4.1)\n",
      "Requirement already satisfied: requests-oauthlib in /opt/conda/lib/python3.8/site-packages (from kubernetes>=23.3.0->kserve) (1.3.1)\n",
      "Requirement already satisfied: pyyaml>=5.4.1 in /opt/conda/lib/python3.8/site-packages (from kubernetes>=23.3.0->kserve) (5.4.1)\n",
      "Requirement already satisfied: pytz>=2020.1 in /opt/conda/lib/python3.8/site-packages (from pandas>=1.3.5->kserve) (2022.4)\n",
      "Collecting tzdata>=2022.1\n",
      "  Downloading tzdata-2023.3-py2.py3-none-any.whl (341 kB)\n",
      "\u001b[2K     \u001b[90m━━━━━━━━━━━━━━━━━━━━━━━━━━━━━━━━━━━━━━━\u001b[0m \u001b[32m341.8/341.8 kB\u001b[0m \u001b[31m7.9 MB/s\u001b[0m eta \u001b[36m0:00:00\u001b[0m00:01\u001b[0m\n",
      "\u001b[?25hRequirement already satisfied: click>=7.0 in /opt/conda/lib/python3.8/site-packages (from ray[serve]<2.5.0,>=2.4.0->kserve) (7.1.2)\n",
      "Collecting filelock\n",
      "  Downloading filelock-3.13.1-py3-none-any.whl (11 kB)\n",
      "Collecting aiosignal\n",
      "  Downloading aiosignal-1.3.1-py3-none-any.whl (7.6 kB)\n",
      "Collecting msgpack<2.0.0,>=1.0.0\n",
      "  Downloading msgpack-1.0.7-cp38-cp38-manylinux_2_17_x86_64.manylinux2014_x86_64.whl (534 kB)\n",
      "\u001b[2K     \u001b[90m━━━━━━━━━━━━━━━━━━━━━━━━━━━━━━━━━━━━━━\u001b[0m \u001b[32m534.8/534.8 kB\u001b[0m \u001b[31m17.1 MB/s\u001b[0m eta \u001b[36m0:00:00\u001b[0m\n",
      "\u001b[?25hRequirement already satisfied: attrs in /opt/conda/lib/python3.8/site-packages (from ray[serve]<2.5.0,>=2.4.0->kserve) (22.1.0)\n",
      "Requirement already satisfied: jsonschema in /opt/conda/lib/python3.8/site-packages (from ray[serve]<2.5.0,>=2.4.0->kserve) (3.2.0)\n",
      "Collecting virtualenv<20.21.1,>=20.0.24\n",
      "  Downloading virtualenv-20.21.0-py3-none-any.whl (8.7 MB)\n",
      "\u001b[2K     \u001b[90m━━━━━━━━━━━━━━━━━━━━━━━━━━━━━━━━━━━━━━━━\u001b[0m \u001b[32m8.7/8.7 MB\u001b[0m \u001b[31m27.7 MB/s\u001b[0m eta \u001b[36m0:00:00\u001b[0m00:01\u001b[0m00:01\u001b[0m\n",
      "\u001b[?25hCollecting frozenlist\n",
      "  Downloading frozenlist-1.4.0-cp38-cp38-manylinux_2_5_x86_64.manylinux1_x86_64.manylinux_2_17_x86_64.manylinux2014_x86_64.whl (220 kB)\n",
      "\u001b[2K     \u001b[90m━━━━━━━━━━━━━━━━━━━━━━━━━━━━━━━━━━━━━━━\u001b[0m \u001b[32m220.1/220.1 kB\u001b[0m \u001b[31m7.4 MB/s\u001b[0m eta \u001b[36m0:00:00\u001b[0m\n",
      "\u001b[?25hCollecting grpcio<2.0.0,>=1.49.1\n",
      "  Downloading grpcio-1.51.3-cp38-cp38-manylinux_2_17_x86_64.manylinux2014_x86_64.whl (4.8 MB)\n",
      "\u001b[2K     \u001b[90m━━━━━━━━━━━━━━━━━━━━━━━━━━━━━━━━━━━━━━━━\u001b[0m \u001b[32m4.8/4.8 MB\u001b[0m \u001b[31m29.6 MB/s\u001b[0m eta \u001b[36m0:00:00\u001b[0m00:01\u001b[0m00:01\u001b[0m\n",
      "\u001b[?25hCollecting gpustat>=1.0.0\n",
      "  Downloading gpustat-1.1.1.tar.gz (98 kB)\n",
      "\u001b[2K     \u001b[90m━━━━━━━━━━━━━━━━━━━━━━━━━━━━━━━━━━━━━━━━\u001b[0m \u001b[32m98.1/98.1 kB\u001b[0m \u001b[31m1.6 MB/s\u001b[0m eta \u001b[36m0:00:00\u001b[0mta \u001b[36m0:00:01\u001b[0m\n",
      "\u001b[?25h  Installing build dependencies ... \u001b[?25ldone\n",
      "\u001b[?25h  Getting requirements to build wheel ... \u001b[?25ldone\n",
      "\u001b[?25h  Preparing metadata (pyproject.toml) ... \u001b[?25ldone\n",
      "\u001b[?25hCollecting aiorwlock\n",
      "  Downloading aiorwlock-1.3.0-py3-none-any.whl (10.0 kB)\n",
      "Collecting colorful\n",
      "  Downloading colorful-0.5.5-py2.py3-none-any.whl (201 kB)\n",
      "\u001b[2K     \u001b[90m━━━━━━━━━━━━━━━━━━━━━━━━━━━━━━━━━━━━━━━\u001b[0m \u001b[32m201.4/201.4 kB\u001b[0m \u001b[31m4.7 MB/s\u001b[0m eta \u001b[36m0:00:00\u001b[0ma \u001b[36m0:00:01\u001b[0m\n",
      "\u001b[?25hCollecting uvicorn\n",
      "  Downloading uvicorn-0.24.0.post1-py3-none-any.whl (59 kB)\n",
      "\u001b[2K     \u001b[90m━━━━━━━━━━━━━━━━━━━━━━━━━━━━━━━━━━━━━━━━\u001b[0m \u001b[32m59.7/59.7 kB\u001b[0m \u001b[31m8.2 MB/s\u001b[0m eta \u001b[36m0:00:00\u001b[0m\n",
      "\u001b[?25hCollecting opencensus\n",
      "  Downloading opencensus-0.11.3-py2.py3-none-any.whl (128 kB)\n",
      "\u001b[2K     \u001b[90m━━━━━━━━━━━━━━━━━━━━━━━━━━━━━━━━━━━━━━━\u001b[0m \u001b[32m128.2/128.2 kB\u001b[0m \u001b[31m1.5 MB/s\u001b[0m eta \u001b[36m0:00:00\u001b[0ma \u001b[36m0:00:01\u001b[0m\n",
      "\u001b[?25hCollecting py-spy>=0.2.0\n",
      "  Downloading py_spy-0.3.14-py2.py3-none-manylinux_2_5_x86_64.manylinux1_x86_64.whl (3.0 MB)\n",
      "\u001b[2K     \u001b[90m━━━━━━━━━━━━━━━━━━━━━━━━━━━━━━━━━━━━━━━━\u001b[0m \u001b[32m3.0/3.0 MB\u001b[0m \u001b[31m17.4 MB/s\u001b[0m eta \u001b[36m0:00:00\u001b[0m00:01\u001b[0m00:01\u001b[0m\n",
      "\u001b[?25hCollecting aiohttp-cors\n",
      "  Downloading aiohttp_cors-0.7.0-py3-none-any.whl (27 kB)\n",
      "Collecting aiohttp>=3.7\n",
      "  Downloading aiohttp-3.8.6-cp38-cp38-manylinux_2_17_x86_64.manylinux2014_x86_64.whl (1.1 MB)\n",
      "\u001b[2K     \u001b[90m━━━━━━━━━━━━━━━━━━━━━━━━━━━━━━━━━━━━━━━━\u001b[0m \u001b[32m1.1/1.1 MB\u001b[0m \u001b[31m18.2 MB/s\u001b[0m eta \u001b[36m0:00:00\u001b[0m:00:01\u001b[0m\n",
      "\u001b[?25hCollecting smart-open\n",
      "  Downloading smart_open-6.4.0-py3-none-any.whl (57 kB)\n",
      "\u001b[2K     \u001b[90m━━━━━━━━━━━━━━━━━━━━━━━━━━━━━━━━━━━━━━━━\u001b[0m \u001b[32m57.0/57.0 kB\u001b[0m \u001b[31m7.7 MB/s\u001b[0m eta \u001b[36m0:00:00\u001b[0m\n",
      "\u001b[?25hCollecting cuda-python\n",
      "  Downloading cuda_python-12.3.0-cp38-cp38-manylinux_2_17_x86_64.manylinux2014_x86_64.whl (23.5 MB)\n",
      "\u001b[2K     \u001b[90m━━━━━━━━━━━━━━━━━━━━━━━━━━━━━━━━━━━━━━━━\u001b[0m \u001b[32m23.5/23.5 MB\u001b[0m \u001b[31m25.1 MB/s\u001b[0m eta \u001b[36m0:00:00\u001b[0m00:01\u001b[0m00:01\u001b[0m\n",
      "\u001b[?25hCollecting python-rapidjson>=0.9.1\n",
      "  Downloading python_rapidjson-1.13-cp38-cp38-manylinux_2_17_x86_64.manylinux2014_x86_64.whl (1.7 MB)\n",
      "\u001b[2K     \u001b[90m━━━━━━━━━━━━━━━━━━━━━━━━━━━━━━━━━━━━━━━━\u001b[0m \u001b[32m1.7/1.7 MB\u001b[0m \u001b[31m11.6 MB/s\u001b[0m eta \u001b[36m0:00:00\u001b[0m00:01\u001b[0m\n",
      "\u001b[?25hCollecting h11>=0.8\n",
      "  Downloading h11-0.14.0-py3-none-any.whl (58 kB)\n",
      "\u001b[2K     \u001b[90m━━━━━━━━━━━━━━━━━━━━━━━━━━━━━━━━━━━━━━━━\u001b[0m \u001b[32m58.3/58.3 kB\u001b[0m \u001b[31m7.4 MB/s\u001b[0m eta \u001b[36m0:00:00\u001b[0m\n",
      "\u001b[?25hCollecting httptools>=0.5.0\n",
      "  Downloading httptools-0.6.1-cp38-cp38-manylinux_2_5_x86_64.manylinux1_x86_64.manylinux_2_17_x86_64.manylinux2014_x86_64.whl (354 kB)\n",
      "\u001b[2K     \u001b[90m━━━━━━━━━━━━━━━━━━━━━━━━━━━━━━━━━━━━━━━\u001b[0m \u001b[32m354.4/354.4 kB\u001b[0m \u001b[31m4.0 MB/s\u001b[0m eta \u001b[36m0:00:00\u001b[0m00:01\u001b[0m\n",
      "\u001b[?25hCollecting websockets>=10.0\n",
      "  Downloading websockets-12.0-cp38-cp38-manylinux_2_5_x86_64.manylinux1_x86_64.manylinux_2_17_x86_64.manylinux2014_x86_64.whl (130 kB)\n",
      "\u001b[2K     \u001b[90m━━━━━━━━━━━━━━━━━━━━━━━━━━━━━━━━━━━━━━━\u001b[0m \u001b[32m130.5/130.5 kB\u001b[0m \u001b[31m5.5 MB/s\u001b[0m eta \u001b[36m0:00:00\u001b[0m\n",
      "\u001b[?25hCollecting python-dotenv>=0.13\n",
      "  Downloading python_dotenv-1.0.0-py3-none-any.whl (19 kB)\n",
      "Collecting watchfiles>=0.13\n",
      "  Downloading watchfiles-0.21.0-cp38-cp38-manylinux_2_17_x86_64.manylinux2014_x86_64.whl (1.3 MB)\n",
      "\u001b[2K     \u001b[90m━━━━━━━━━━━━━━━━━━━━━━━━━━━━━━━━━━━━━━━━\u001b[0m \u001b[32m1.3/1.3 MB\u001b[0m \u001b[31m21.4 MB/s\u001b[0m eta \u001b[36m0:00:00\u001b[0m00:01\u001b[0m\n",
      "\u001b[?25hCollecting uvloop!=0.15.0,!=0.15.1,>=0.14.0\n",
      "  Downloading uvloop-0.19.0-cp38-cp38-manylinux_2_17_x86_64.manylinux2014_x86_64.whl (4.0 MB)\n",
      "\u001b[2K     \u001b[90m━━━━━━━━━━━━━━━━━━━━━━━━━━━━━━━━━━━━━━━━\u001b[0m \u001b[32m4.0/4.0 MB\u001b[0m \u001b[31m31.3 MB/s\u001b[0m eta \u001b[36m0:00:00\u001b[0m00:01\u001b[0m00:01\u001b[0m\n",
      "\u001b[?25hCollecting async-timeout<5.0,>=4.0.0a3\n",
      "  Downloading async_timeout-4.0.3-py3-none-any.whl (5.7 kB)\n",
      "Requirement already satisfied: charset-normalizer<4.0,>=2.0 in /opt/conda/lib/python3.8/site-packages (from aiohttp>=3.7->ray[serve]<2.5.0,>=2.4.0->kserve) (2.1.1)\n",
      "Collecting yarl<2.0,>=1.0\n",
      "  Downloading yarl-1.9.2-cp38-cp38-manylinux_2_17_x86_64.manylinux2014_x86_64.whl (266 kB)\n",
      "\u001b[2K     \u001b[90m━━━━━━━━━━━━━━━━━━━━━━━━━━━━━━━━━━━━━━━\u001b[0m \u001b[32m266.9/266.9 kB\u001b[0m \u001b[31m2.2 MB/s\u001b[0m eta \u001b[36m0:00:00\u001b[0m00:01\u001b[0m\n",
      "\u001b[?25hCollecting multidict<7.0,>=4.5\n",
      "  Downloading multidict-6.0.4-cp38-cp38-manylinux_2_17_x86_64.manylinux2014_x86_64.whl (121 kB)\n",
      "\u001b[2K     \u001b[90m━━━━━━━━━━━━━━━━━━━━━━━━━━━━━━━━━━━━━━━\u001b[0m \u001b[32m121.3/121.3 kB\u001b[0m \u001b[31m1.3 MB/s\u001b[0m eta \u001b[36m0:00:00\u001b[0ma \u001b[36m0:00:01\u001b[0m\n",
      "\u001b[?25hRequirement already satisfied: packaging in /opt/conda/lib/python3.8/site-packages (from deprecation<3.0,>=2.0->cloudevents<2.0.0,>=1.6.2->kserve) (21.3)\n",
      "Requirement already satisfied: pyasn1-modules>=0.2.1 in /opt/conda/lib/python3.8/site-packages (from google-auth>=1.0.1->kubernetes>=23.3.0->kserve) (0.2.8)\n",
      "Requirement already satisfied: setuptools>=40.3.0 in /opt/conda/lib/python3.8/site-packages (from google-auth>=1.0.1->kubernetes>=23.3.0->kserve) (65.4.1)\n",
      "Requirement already satisfied: rsa<5,>=3.1.4 in /opt/conda/lib/python3.8/site-packages (from google-auth>=1.0.1->kubernetes>=23.3.0->kserve) (4.9)\n",
      "Requirement already satisfied: cachetools<5.0,>=2.0.0 in /opt/conda/lib/python3.8/site-packages (from google-auth>=1.0.1->kubernetes>=23.3.0->kserve) (4.2.4)\n",
      "Collecting nvidia-ml-py>=11.450.129\n",
      "  Downloading nvidia_ml_py-12.535.133-py3-none-any.whl (37 kB)\n",
      "Collecting blessed>=1.17.1\n",
      "  Downloading blessed-1.20.0-py2.py3-none-any.whl (58 kB)\n",
      "\u001b[2K     \u001b[90m━━━━━━━━━━━━━━━━━━━━━━━━━━━━━━━━━━━━━━━━\u001b[0m \u001b[32m58.4/58.4 kB\u001b[0m \u001b[31m6.4 MB/s\u001b[0m eta \u001b[36m0:00:00\u001b[0m\n",
      "\u001b[?25hRequirement already satisfied: anyio<5.0,>=3.0 in /opt/conda/lib/python3.8/site-packages (from httpcore<0.17.0,>=0.15.0->httpx<0.24.0,>=0.23.0->kserve) (3.6.1)\n",
      "Requirement already satisfied: typing-extensions>=4.2.0 in /opt/conda/lib/python3.8/site-packages (from pydantic!=1.7,!=1.7.1,!=1.7.2,!=1.7.3,!=1.8,!=1.8.1,<2.0.0,>=1.6.2->fastapi<0.96.0,>=0.95.0->kserve) (4.4.0)\n",
      "Requirement already satisfied: idna in /opt/conda/lib/python3.8/site-packages (from rfc3986[idna2008]<2,>=1.3->httpx<0.24.0,>=0.23.0->kserve) (3.4)\n",
      "Collecting platformdirs<4,>=2.4\n",
      "  Downloading platformdirs-3.11.0-py3-none-any.whl (17 kB)\n",
      "Collecting distlib<1,>=0.3.6\n",
      "  Downloading distlib-0.3.7-py2.py3-none-any.whl (468 kB)\n",
      "\u001b[2K     \u001b[90m━━━━━━━━━━━━━━━━━━━━━━━━━━━━━━━━━━━━━━\u001b[0m \u001b[32m468.9/468.9 kB\u001b[0m \u001b[31m15.6 MB/s\u001b[0m eta \u001b[36m0:00:00\u001b[0m\n",
      "\u001b[?25hRequirement already satisfied: pyrsistent>=0.14.0 in /opt/conda/lib/python3.8/site-packages (from jsonschema->ray[serve]<2.5.0,>=2.4.0->kserve) (0.18.1)\n",
      "Collecting opencensus-context>=0.1.3\n",
      "  Downloading opencensus_context-0.1.3-py2.py3-none-any.whl (5.1 kB)\n",
      "Requirement already satisfied: google-api-core<3.0.0,>=1.0.0 in /opt/conda/lib/python3.8/site-packages (from opencensus->ray[serve]<2.5.0,>=2.4.0->kserve) (2.8.2)\n",
      "Requirement already satisfied: wcwidth>=0.1.4 in /opt/conda/lib/python3.8/site-packages (from blessed>=1.17.1->gpustat>=1.0.0->ray[serve]<2.5.0,>=2.4.0->kserve) (0.2.5)\n",
      "Requirement already satisfied: googleapis-common-protos<2.0dev,>=1.56.2 in /opt/conda/lib/python3.8/site-packages (from google-api-core<3.0.0,>=1.0.0->opencensus->ray[serve]<2.5.0,>=2.4.0->kserve) (1.56.4)\n",
      "Requirement already satisfied: pyasn1<0.5.0,>=0.4.6 in /opt/conda/lib/python3.8/site-packages (from pyasn1-modules>=0.2.1->google-auth>=1.0.1->kubernetes>=23.3.0->kserve) (0.4.8)\n",
      "Requirement already satisfied: pyparsing!=3.0.5,>=2.0.2 in /opt/conda/lib/python3.8/site-packages (from packaging->deprecation<3.0,>=2.0->cloudevents<2.0.0,>=1.6.2->kserve) (3.0.9)\n",
      "Building wheels for collected packages: gpustat\n",
      "  Building wheel for gpustat (pyproject.toml) ... \u001b[?25ldone\n",
      "\u001b[?25h  Created wheel for gpustat: filename=gpustat-1.1.1-py3-none-any.whl size=26535 sha256=628bc6752680ff5e9a0f049fb64a82b1423905ef03b1fcfb24209819a588cc3b\n",
      "  Stored in directory: /home/jovyan/.cache/pip/wheels/0e/91/24/e76d33670e72d0ff13fe908a9f8e4eb8507c4c195898617aac\n",
      "Successfully built gpustat\n",
      "Installing collected packages: rfc3986, py-spy, opencensus-context, nvidia-ml-py, distlib, cuda-python, colorful, websockets, uvloop, tzdata, timing-asgi, smart-open, python-rapidjson, python-dotenv, pydantic, prometheus-client, platformdirs, orjson, oauthlib, numpy, multidict, msgpack, httptools, h11, grpcio, frozenlist, filelock, blessed, async-timeout, aiorwlock, yarl, watchfiles, virtualenv, uvicorn, tritonclient, starlette, pandas, httpcore, gpustat, aiosignal, ray, kubernetes, httpx, fastapi, cloudevents, aiohttp, opencensus, aiohttp-cors, kserve\n",
      "  Attempting uninstall: prometheus-client\n",
      "    Found existing installation: prometheus-client 0.14.1\n",
      "    Uninstalling prometheus-client-0.14.1:\n",
      "      Successfully uninstalled prometheus-client-0.14.1\n",
      "  Attempting uninstall: oauthlib\n",
      "    Found existing installation: oauthlib 3.2.1\n",
      "    Uninstalling oauthlib-3.2.1:\n",
      "      Successfully uninstalled oauthlib-3.2.1\n",
      "  Attempting uninstall: numpy\n",
      "    Found existing installation: numpy 1.22.4\n",
      "    Uninstalling numpy-1.22.4:\n",
      "      Successfully uninstalled numpy-1.22.4\n",
      "  Attempting uninstall: pandas\n",
      "    Found existing installation: pandas 1.2.4\n",
      "    Uninstalling pandas-1.2.4:\n",
      "      Successfully uninstalled pandas-1.2.4\n",
      "  Attempting uninstall: kubernetes\n",
      "    Found existing installation: kubernetes 12.0.1\n",
      "    Uninstalling kubernetes-12.0.1:\n",
      "      Successfully uninstalled kubernetes-12.0.1\n",
      "  Attempting uninstall: cloudevents\n",
      "    Found existing installation: cloudevents 1.6.1\n",
      "    Uninstalling cloudevents-1.6.1:\n",
      "      Successfully uninstalled cloudevents-1.6.1\n",
      "\u001b[31mERROR: pip's dependency resolver does not currently take into account all the packages that are installed. This behaviour is the source of the following dependency conflicts.\n",
      "scipy 1.7.0 requires numpy<1.23.0,>=1.16.5, but you have numpy 1.24.4 which is incompatible.\n",
      "kfp 1.6.3 requires kubernetes<13,>=8.0.0, but you have kubernetes 28.1.0 which is incompatible.\u001b[0m\u001b[31m\n",
      "\u001b[0mSuccessfully installed aiohttp-3.8.6 aiohttp-cors-0.7.0 aiorwlock-1.3.0 aiosignal-1.3.1 async-timeout-4.0.3 blessed-1.20.0 cloudevents-1.10.1 colorful-0.5.5 cuda-python-12.3.0 distlib-0.3.7 fastapi-0.95.2 filelock-3.13.1 frozenlist-1.4.0 gpustat-1.1.1 grpcio-1.51.3 h11-0.14.0 httpcore-0.16.3 httptools-0.6.1 httpx-0.23.3 kserve-0.11.1 kubernetes-28.1.0 msgpack-1.0.7 multidict-6.0.4 numpy-1.24.4 nvidia-ml-py-12.535.133 oauthlib-3.2.2 opencensus-0.11.3 opencensus-context-0.1.3 orjson-3.9.10 pandas-2.0.3 platformdirs-3.11.0 prometheus-client-0.13.1 py-spy-0.3.14 pydantic-1.10.13 python-dotenv-1.0.0 python-rapidjson-1.13 ray-2.4.0 rfc3986-1.5.0 smart-open-6.4.0 starlette-0.27.0 timing-asgi-0.3.1 tritonclient-2.39.0 tzdata-2023.3 uvicorn-0.19.0 uvloop-0.19.0 virtualenv-20.21.0 watchfiles-0.21.0 websockets-12.0 yarl-1.9.2\n"
     ]
    }
   ],
   "source": [
    "!pip install kserve"
   ]
  },
  {
   "cell_type": "code",
   "execution_count": 3,
   "id": "7011e036-c0b4-43d2-94cb-53f70ce386a5",
   "metadata": {},
   "outputs": [],
   "source": [
    "## import depandancies\n",
    "from kubernetes import client \n",
    "from kserve import KServeClient\n",
    "from kserve import constants\n",
    "from kserve import utils\n",
    "from kserve import V1beta1InferenceService\n",
    "from kserve import V1beta1InferenceServiceSpec\n",
    "from kserve import V1beta1PredictorSpec\n",
    "from kserve import V1beta1SKLearnSpec\n",
    "from kserve import V1beta1XGBoostSpec"
   ]
  },
  {
   "cell_type": "markdown",
   "id": "97746072",
   "metadata": {},
   "source": [
    "\n",
    "## 4.1 Deploy the model\n",
    "\n",
    "### 4.1.1 Define model serving Metadata"
   ]
  },
  {
   "cell_type": "code",
   "execution_count": 25,
   "id": "a4474478-e1ee-495a-9ecd-e2a326f0a462",
   "metadata": {},
   "outputs": [],
   "source": [
    "# get kserve namespace\n",
    "namespace = utils.get_default_target_namespace()\n",
    "### Define the model name, due to technical limitations on service naming size, consider using just a trigram.\n",
    "name = \"xux\"\n",
    "### the path to model used to launch the service\n",
    "bucket=''#firstname-lastname\n",
    "storage_uri=f\"s3://{bucket}/models/frompipeline/xgboost/chicago\""
   ]
  },
  {
   "cell_type": "markdown",
   "id": "0f626511",
   "metadata": {},
   "source": [
    "### 4.1.2 Create a secret and a service account so Kserve can use model in MinIO"
   ]
  },
  {
   "cell_type": "markdown",
   "id": "9f894153",
   "metadata": {},
   "source": [
    "Check the `./resources/s3_secret.yaml` file that contains 2 resources definitions, and a link to MinIO"
   ]
  },
  {
   "cell_type": "code",
   "execution_count": 20,
   "id": "d38496b6",
   "metadata": {},
   "outputs": [
    {
     "name": "stdout",
     "output_type": "stream",
     "text": [
      "secret/kserve-minio-secret configured\n",
      "serviceaccount/kserve-minio-sa unchanged\n"
     ]
    }
   ],
   "source": [
    "\n",
    "!kubectl apply -f ./resources/s3_secret.yaml"
   ]
  },
  {
   "cell_type": "markdown",
   "id": "b61a76ff",
   "metadata": {},
   "source": [
    "### 4.1.3 Create the inference service specification using\n",
    "\n",
    "- The model name and namespace\n",
    "- The storage URI\n",
    "- The Protocol version\n",
    "- The service account created in ./resources/s3_secret.yaml\n",
    "- An \"image pull secret\" reference so kserve can pull images from container registry (predictor and others...)\n"
   ]
  },
  {
   "cell_type": "code",
   "execution_count": 26,
   "id": "ef497e2b-bbde-464c-99d1-c92b40406531",
   "metadata": {},
   "outputs": [],
   "source": [
    "chicago_isvc = V1beta1InferenceService(\n",
    "    api_version=\"serving.kserve.io/v1beta1\",\n",
    "    kind=constants.KSERVE_KIND,\n",
    "    metadata=client.V1ObjectMeta(\n",
    "        name=name,\n",
    "        namespace=namespace\n",
    "    ),\n",
    "    spec=V1beta1InferenceServiceSpec(\n",
    "        predictor=V1beta1PredictorSpec(\n",
    "            xgboost=(\n",
    "                V1beta1XGBoostSpec(\n",
    "                    storage_uri=storage_uri,\n",
    "                    protocol_version=\"v2\"\n",
    "                )\n",
    "            ),\n",
    "            service_account_name='kserve-minio-sa',\n",
    "            image_pull_secrets=[{'name':'registry-secret'}]\n",
    "        )\n",
    "    )\n",
    "\n",
    ")"
   ]
  },
  {
   "cell_type": "markdown",
   "id": "91c1755d",
   "metadata": {},
   "source": [
    "### 4.1.4 launch this service"
   ]
  },
  {
   "cell_type": "code",
   "execution_count": 27,
   "id": "36bd4caf-f1f3-4076-94e6-c4d081784810",
   "metadata": {},
   "outputs": [
    {
     "data": {
      "text/plain": [
       "{'apiVersion': 'serving.kserve.io/v1beta1',\n",
       " 'kind': 'InferenceService',\n",
       " 'metadata': {'creationTimestamp': '2023-11-13T10:53:10Z',\n",
       "  'generation': 1,\n",
       "  'labels': {'modelClass': 'mlserver_xgboost.XGBoostModel'},\n",
       "  'managedFields': [{'apiVersion': 'serving.kserve.io/v1beta1',\n",
       "    'fieldsType': 'FieldsV1',\n",
       "    'fieldsV1': {'f:spec': {'.': {},\n",
       "      'f:predictor': {'.': {},\n",
       "       'f:imagePullSecrets': {},\n",
       "       'f:serviceAccountName': {},\n",
       "       'f:xgboost': {'.': {},\n",
       "        'f:name': {},\n",
       "        'f:protocolVersion': {},\n",
       "        'f:storageUri': {}}}}},\n",
       "    'manager': 'OpenAPI-Generator',\n",
       "    'operation': 'Update',\n",
       "    'time': '2023-11-13T10:53:08Z'}],\n",
       "  'name': 'xux',\n",
       "  'namespace': 'kubeflow-user-guillaume-etevenard',\n",
       "  'resourceVersion': '5818287096',\n",
       "  'uid': 'f3233655-b528-4b78-af6b-0b4db8cbdedd'},\n",
       " 'spec': {'predictor': {'imagePullSecrets': [{'name': 'registry-secret'}],\n",
       "   'model': {'env': [{'name': 'MLSERVER_MODEL_NAME', 'value': 'xux'},\n",
       "     {'name': 'MLSERVER_MODEL_URI', 'value': '/mnt/models'}],\n",
       "    'modelFormat': {'name': 'xgboost'},\n",
       "    'name': '',\n",
       "    'protocolVersion': 'v2',\n",
       "    'resources': {},\n",
       "    'runtime': 'kserve-mlserver',\n",
       "    'storageUri': 's3://guillaume-etevenard/models/frompipeline/xgboost/chicago'},\n",
       "   'serviceAccountName': 'kserve-minio-sa'}}}"
      ]
     },
     "execution_count": 27,
     "metadata": {},
     "output_type": "execute_result"
    }
   ],
   "source": [
    "KServe = KServeClient()\n",
    "KServe.create(chicago_isvc)"
   ]
  },
  {
   "cell_type": "markdown",
   "id": "2ca6ae98",
   "metadata": {},
   "source": [
    "### 4.1.5 get the inference service status over time"
   ]
  },
  {
   "cell_type": "code",
   "execution_count": 28,
   "id": "26cd492c-52b3-4efa-8f70-39c42903567d",
   "metadata": {},
   "outputs": [
    {
     "name": "stdout",
     "output_type": "stream",
     "text": [
      "NAME    READY    PREV    LATEST    URL\n",
      "xux     Unknown\n",
      "NAME    READY    PREV    LATEST    URL\n",
      "xux     Unknown\n"
     ]
    }
   ],
   "source": [
    "KServe.get(name, namespace=namespace, watch=True, timeout_seconds=120)"
   ]
  },
  {
   "cell_type": "code",
   "execution_count": 29,
   "id": "d5b09132-5609-44f9-8801-2fff34fa3498",
   "metadata": {},
   "outputs": [],
   "source": [
    "import requests\n",
    "\n",
    "### using Kserve api, get the url of the service\n",
    "isvc_resp = KServe.get(name, namespace=namespace)\n",
    "isvc_url = isvc_resp['status']['address']['url']"
   ]
  },
  {
   "cell_type": "code",
   "execution_count": 30,
   "id": "c1a14b0d-bb28-4fdb-bc63-207c4b0f7b1f",
   "metadata": {},
   "outputs": [
    {
     "data": {
      "text/plain": [
       "'http://xux.kubeflow-user-guillaume-etevenard.svc.cluster.local/v2/models/xux/infer'"
      ]
     },
     "execution_count": 30,
     "metadata": {},
     "output_type": "execute_result"
    }
   ],
   "source": [
    "### Print the URL to se how to query the model\n",
    "isvc_url"
   ]
  },
  {
   "cell_type": "code",
   "execution_count": 31,
   "id": "fafa7b1e-c6cc-4ae8-b027-9e77350e8df3",
   "metadata": {},
   "outputs": [
    {
     "data": {
      "text/plain": [
       "'{\"name\":\"xux\",\"versions\":[],\"platform\":\"\",\"inputs\":[],\"outputs\":[]}'"
      ]
     },
     "execution_count": 31,
     "metadata": {},
     "output_type": "execute_result"
    }
   ],
   "source": [
    "### Test the API : try a GET to the models/modelname route\n",
    "requests.get(f'http://{name}.{namespace}.svc.cluster.local/v2/models/{name}').text"
   ]
  },
  {
   "cell_type": "markdown",
   "id": "60c21cda",
   "metadata": {},
   "source": [
    "#### 4.1.6 Consider that the model is deployed IF : \n",
    "\n",
    "- KServe.get(..., namespace=..., watch=True, timeout_seconds=120) return READY = TRUE\n",
    "- Interface shows all green checks"
   ]
  },
  {
   "cell_type": "markdown",
   "id": "0c581088",
   "metadata": {},
   "source": [
    "![serving_summary](./images/serving_summary.png)\n",
    "\n",
    "![serving_details](./images/serving_details.png)"
   ]
  },
  {
   "cell_type": "markdown",
   "id": "76d43bed",
   "metadata": {},
   "source": [
    "## 4.2 Query the model"
   ]
  },
  {
   "cell_type": "markdown",
   "id": "6cc2ea75",
   "metadata": {},
   "source": [
    "### 4.2.1 Get sample data from the original dataset"
   ]
  },
  {
   "cell_type": "code",
   "execution_count": 32,
   "id": "c5e9a1fa",
   "metadata": {},
   "outputs": [],
   "source": [
    "data_list = [\n",
    "        [\n",
    "            746.0,\n",
    "            3.34,\n",
    "            6.0,\n",
    "            41.9442266,\n",
    "            -87.65599818,\n",
    "            16.0,\n",
    "            11.75,\n",
    "            0.0,\n",
    "            0.0,\n",
    "            11.75\n",
    "        ],\n",
    "        [\n",
    "            681.0,\n",
    "            3.0,\n",
    "            8.0,\n",
    "            41.89960211,\n",
    "            -87.63330804,\n",
    "            24.0,\n",
    "            11.25,\n",
    "            0.0,\n",
    "            0.0,\n",
    "            11.25\n",
    "        ]\n",
    "      ]"
   ]
  },
  {
   "cell_type": "markdown",
   "id": "194653ae",
   "metadata": {},
   "source": [
    "### 4.2.2 Create the object for query "
   ]
  },
  {
   "cell_type": "code",
   "execution_count": 33,
   "id": "208bcfe0-2fde-44be-ba80-fc66261be8b7",
   "metadata": {},
   "outputs": [],
   "source": [
    "\n",
    "inference_input = {\n",
    "  \"inputs\": [\n",
    "    {\n",
    "      \"name\": \"input-0\",\n",
    "      \"shape\": [2, 10],\n",
    "      \"datatype\": \"FP32\",\n",
    "      \"data\": data_list\n",
    "    }\n",
    "  ]\n",
    "}"
   ]
  },
  {
   "cell_type": "markdown",
   "id": "6f9ca6df",
   "metadata": {},
   "source": [
    "### 4.2.3 Query the model"
   ]
  },
  {
   "cell_type": "code",
   "execution_count": 34,
   "id": "c469803d-19b4-4dc0-a832-db2f636c9f22",
   "metadata": {},
   "outputs": [
    {
     "name": "stdout",
     "output_type": "stream",
     "text": [
      "{\"model_name\":\"xux\",\"model_version\":null,\"id\":\"620b594a-56ae-47bf-a8df-ab460f1134c9\",\"parameters\":null,\"outputs\":[{\"name\":\"predict\",\"shape\":[2],\"datatype\":\"FP32\",\"parameters\":null,\"data\":[-0.04879039525985718,-0.018634533509612083]}]}\n"
     ]
    }
   ],
   "source": [
    "response = requests.post(isvc_url,json=inference_input)\n",
    "### you should get a json object ending with \"data:[prediction1,prediction2]\"\n",
    "print(response.text)"
   ]
  },
  {
   "cell_type": "markdown",
   "id": "e6ac54ee",
   "metadata": {},
   "source": [
    "## Go further"
   ]
  },
  {
   "cell_type": "markdown",
   "id": "686c77fb",
   "metadata": {},
   "source": [
    "We see how to create an inference service from this notebook. to go further we could create it from a pipeline component"
   ]
  },
  {
   "cell_type": "code",
   "execution_count": null,
   "id": "476436ef",
   "metadata": {},
   "outputs": [],
   "source": [
    "### this is the kserve component, prebuild and available on github\n",
    "kserve_op = components.load_component_from_url('https://raw.githubusercontent.com/kubeflow/pipelines/master/components/kserve/component.yaml')\n"
   ]
  },
  {
   "cell_type": "code",
   "execution_count": null,
   "id": "c5318c77",
   "metadata": {},
   "outputs": [],
   "source": [
    "from kubernetes import client as k8s_client\n",
    "pipeline_conf = kfp.dsl.PipelineConf()\n",
    "pipeline_conf.set_image_pull_secrets([k8s_client.V1ObjectReference(name='registry-secret')])\n",
    "\n",
    "@dsl.pipeline(\n",
    "  name='KServe pipeline',\n",
    "  description='A pipeline for creating inference service from s3 model.'\n",
    ")\n",
    "def kservePipeline():\n",
    "  action = 'apply'\n",
    "  model_name = 'xux'\n",
    "  model_uri = 's3://firstname-lastname/models/frompipeline/xgboost/chicago' #ATTENTION: change the bucket name\n",
    "  namespace = 'kserve'\n",
    "  framework = 'xgboost'\n",
    "\n",
    "  kserve = kserve_op(action = action,\n",
    "                             model_name=model_name,\n",
    "                             model_uri=model_uri,\n",
    "                             namespace=namespace,\n",
    "                             framework=framework,\n",
    "                             ### how to add s3 SA ?\n",
    "                             ### how to set protocal version ? \n",
    "                             ).set_image_pull_policy('Always')\n"
   ]
  },
  {
   "cell_type": "code",
   "execution_count": null,
   "id": "90f79684",
   "metadata": {},
   "outputs": [],
   "source": [
    "run_id = f'kserve_pipeline_{datetime.now().strftime(\"%Y%m%d_%H%M%S\")}'"
   ]
  }
 ],
 "metadata": {
  "kernelspec": {
   "display_name": "Python 3 (ipykernel)",
   "language": "python",
   "name": "python3"
  },
  "language_info": {
   "codemirror_mode": {
    "name": "ipython",
    "version": 3
   },
   "file_extension": ".py",
   "mimetype": "text/x-python",
   "name": "python",
   "nbconvert_exporter": "python",
   "pygments_lexer": "ipython3",
   "version": "3.8.10"
  },
  "vscode": {
   "interpreter": {
    "hash": "1db6d0c0fb62fcd92812f526c45c77dc568410c92bb0ad7cc615a53ad33175c5"
   }
  }
 },
 "nbformat": 4,
 "nbformat_minor": 5
}
