{
 "cells": [
  {
   "cell_type": "markdown",
   "id": "f58b9bb4-737e-494d-a96d-789a1b5079bf",
   "metadata": {},
   "source": [
    "# Govern ml artifacts"
   ]
  },
  {
   "cell_type": "markdown",
   "id": "bb6c7ef3-6b63-4b8a-839a-69d031785eb8",
   "metadata": {},
   "source": [
    "We will use MLFLOW to get a first approach of what is a model registry, and how to use it"
   ]
  },
  {
   "cell_type": "markdown",
   "id": "af94b5e3-5be2-4fa1-8063-6b7639454aa1",
   "metadata": {},
   "source": [
    "MLFLOW uri : [https://ml-registrycourse.aiengineer.codex-platform.com//](https://ml-registry.course.aiengineer.codex-platform.com/)"
   ]
  },
  {
   "cell_type": "markdown",
   "id": "fd917554-6d82-4078-ad4c-3e7b2f9d3afc",
   "metadata": {},
   "source": [
    "## 0.0 install and import dependancies"
   ]
  },
  {
   "cell_type": "code",
   "execution_count": null,
   "id": "12c2ab88-2fdd-4979-b57a-f0318477fa27",
   "metadata": {
    "collapsed": true,
    "jupyter": {
     "outputs_hidden": true
    },
    "tags": []
   },
   "outputs": [],
   "source": [
    "%pip install mlflow boto boto3 xgboost==1.1.1 # mlflow is the model registry client, boto a s3 api client and xgboost the Machine learning framework"
   ]
  },
  {
   "cell_type": "code",
   "execution_count": null,
   "id": "b0c44d77-6993-46fd-a8aa-367f9808cb47",
   "metadata": {
    "tags": []
   },
   "outputs": [],
   "source": [
    "import mlflow.xgboost\n",
    "from mlflow.store.artifact.runs_artifact_repo import RunsArtifactRepository\n",
    "from mlflow import MlflowClient\n",
    "from sklearn.ensemble import RandomForestRegressor\n",
    "import pandas\n",
    "import xgboost\n",
    "from sklearn.metrics import roc_curve\n",
    "from sklearn.model_selection import train_test_split\n",
    "import pyarrow\n",
    "import os\n",
    "import pandas as pd\n",
    "from feast import (\n",
    "    FeatureStore\n",
    ")"
   ]
  },
  {
   "cell_type": "markdown",
   "id": "064f50a6-16e0-4698-8199-83faa5b9cb25",
   "metadata": {},
   "source": [
    "## 0.1 MLflow related configuration"
   ]
  },
  {
   "cell_type": "code",
   "execution_count": null,
   "id": "9c940e77-03d3-41e6-8dfb-774a8d273430",
   "metadata": {},
   "outputs": [],
   "source": [
    "os.environ[\"AWS_ACCESS_KEY_ID\"] = \"mlflow-storage\"\n",
    "os.environ[\"AWS_SECRET_ACCESS_KEY\"] = \"mlflow-storage\"\n",
    "os.environ[\"MLFLOW_S3_ENDPOINT_URL\"] = \"https://storage-api.course.aiengineer.codex-platform.com\"\n",
    "mlflow.set_tracking_uri('http://mlflow.mlflow.svc.cluster.local:5000')"
   ]
  },
  {
   "cell_type": "markdown",
   "id": "3e75403d-ca6f-49d7-b6d2-1af817e88906",
   "metadata": {},
   "source": [
    "## 1.Train and track a model"
   ]
  },
  {
   "cell_type": "markdown",
   "id": "0ca2cec6-f8df-4609-972c-fcc126e22c99",
   "metadata": {},
   "source": [
    "### 1.0 Minimal function to train an xgboost model"
   ]
  },
  {
   "cell_type": "code",
   "execution_count": null,
   "id": "20c17076-0122-4296-9139-4e1b0d79b38f",
   "metadata": {},
   "outputs": [],
   "source": [
    "def xgboost_train(\n",
    "    training_data,\n",
    "    booster_params,\n",
    "    label_column ='tips', \n",
    "    num_iterations: int = 10\n",
    "):\n",
    "        \n",
    "    ### load data ###\n",
    "    df = training_data\n",
    "    \n",
    "    ### autoclean data to allow only copatible types in features\n",
    "    numerics = ['int','float']\n",
    "    df = df.select_dtypes(include=numerics)\n",
    "    df = df.dropna()\n",
    "    \n",
    "    data=df.drop(label_column,axis=1)\n",
    "    label=df[[label_column]]\n",
    "    dtrain = xgboost.DMatrix(data, label=label)\n",
    "    \n",
    "    model = xgboost.train(\n",
    "        params=booster_params,\n",
    "        dtrain=dtrain,\n",
    "        num_boost_round=num_iterations,\n",
    "    )\n",
    "    \n",
    "    return model\n",
    "    "
   ]
  },
  {
   "cell_type": "markdown",
   "id": "abda6e7b-4d74-454b-aaec-9f9469aa99b3",
   "metadata": {},
   "source": [
    "### 1.1 model parameters initialization"
   ]
  },
  {
   "cell_type": "code",
   "execution_count": null,
   "id": "ffc8f873-56ea-488c-97a8-bdf48acdcbe1",
   "metadata": {},
   "outputs": [],
   "source": [
    "params = {\n",
    "    \"objective\":'reg:squarederror',\n",
    "    \"booster\":'gbtree',\n",
    "    \"learning_rate\": 0.3,\n",
    "    \"min_split_loss\": 0,\n",
    "    \"max_depth\": 6,\n",
    "}"
   ]
  },
  {
   "cell_type": "markdown",
   "id": "640168f6-a80e-49f2-9add-acde046e1daa",
   "metadata": {},
   "source": [
    "### 1.2 Model tracking set up"
   ]
  },
  {
   "cell_type": "markdown",
   "id": "d40a10ff-f01b-4559-9513-01b3111a27ab",
   "metadata": {},
   "source": [
    "To use correctly the mlflow model registry, we will track our training in mlflow "
   ]
  },
  {
   "cell_type": "markdown",
   "id": "2d637f6c-19ea-4186-b15e-4409cd06b227",
   "metadata": {},
   "source": [
    "### 1.2.1 Create a new experiment with \"experiment_id\" wired to our minio bucket "
   ]
  },
  {
   "cell_type": "code",
   "execution_count": null,
   "id": "a501821e-d219-4c1b-8cfd-965df143b527",
   "metadata": {},
   "outputs": [],
   "source": [
    "### example : 'john-doe'\n",
    "username=''#firstname-lastname\n",
    "# set up a name with your username\n",
    "experiment_name = f\"{username} experiments\""
   ]
  },
  {
   "cell_type": "code",
   "execution_count": null,
   "id": "70d0d0f2-fdca-48d4-9212-7ea950422659",
   "metadata": {
    "collapsed": true,
    "jupyter": {
     "outputs_hidden": true
    },
    "tags": []
   },
   "outputs": [],
   "source": [
    "# create an experiment with the name, a storage location and some metadata if needed\n",
    "experiment_id = mlflow.create_experiment(\n",
    "    experiment_name,\n",
    "    artifact_location=f's3://{username}/mlflowmodels/experiments-tp4',\n",
    "    tags={\"version\": \"TP4\"}\n",
    ")"
   ]
  },
  {
   "cell_type": "code",
   "execution_count": null,
   "id": "54fd6f41-4ca4-4378-8c07-03689dae0dfd",
   "metadata": {},
   "outputs": [],
   "source": [
    "### list all mlflow experiments\n",
    "mlflow.search_experiments()"
   ]
  },
  {
   "cell_type": "code",
   "execution_count": null,
   "id": "1dd07823-f4a4-49b1-b932-90990dcc571e",
   "metadata": {},
   "outputs": [],
   "source": [
    "experiment = mlflow.get_experiment_by_name(experiment_name)\n",
    "print(\"Name: {}\".format(experiment.name))\n",
    "print(\"Experiment_id: {}\".format(experiment.experiment_id))\n",
    "print(\"Artifact Location: {}\".format(experiment.artifact_location))\n",
    "print(\"Tags: {}\".format(experiment.tags))\n",
    "print(\"Lifecycle_stage: {}\".format(experiment.lifecycle_stage))"
   ]
  },
  {
   "cell_type": "markdown",
   "id": "71abc72d-58ff-489f-b639-45b93af11a30",
   "metadata": {},
   "source": [
    "### 1.3 Train the model"
   ]
  },
  {
   "cell_type": "markdown",
   "id": "fa933d3e-c77d-4493-b26c-5cc52d061cc9",
   "metadata": {},
   "source": [
    "#### 1.3.1 get the data from the feature store"
   ]
  },
  {
   "cell_type": "code",
   "execution_count": null,
   "id": "8e9fc921-9c79-4808-aae8-bc8615d2860f",
   "metadata": {},
   "outputs": [],
   "source": [
    "fs = FeatureStore(repo_path=\"./feature_repo\")"
   ]
  },
  {
   "cell_type": "code",
   "execution_count": null,
   "id": "1b9026ac-7338-4fd5-bf25-15c0f59c4b28",
   "metadata": {},
   "outputs": [],
   "source": [
    "# Choose a service to query features on\n",
    "feature_service = fs.get_feature_service(\"taxi_trip_service_v2\")\n",
    "\n",
    "# scope the features to retreive\n",
    "# take the 1000 first index\n",
    "entity_df = pd.DataFrame.from_dict({\"index\": [*range(1, 1001)]})\n",
    "\n",
    "# take all timestamp older than now\n",
    "entity_df[\"event_timestamp\"] = pd.to_datetime(\"now\", utc=True)    \n",
    "\n",
    "# get the list of the wanted features, for the scoped entity dataframe\n",
    "training_data = fs.get_historical_features(\n",
    "    entity_df=entity_df,\n",
    "    features=feature_service,\n",
    ").to_df()"
   ]
  },
  {
   "cell_type": "markdown",
   "id": "98c72898-8d0e-49db-820c-528ce3d90b91",
   "metadata": {},
   "source": [
    "#### 1.3.2 use MLflow autolog and context manager to track the training"
   ]
  },
  {
   "cell_type": "code",
   "execution_count": null,
   "id": "dcd9137b-19ef-414a-87c0-646205e02038",
   "metadata": {},
   "outputs": [],
   "source": [
    "### this will log all params availables into mlflow\n",
    "mlflow.xgboost.autolog()\n",
    "\n",
    "### this context manager will bind the process to an experiment\n",
    "with mlflow.start_run(experiment_id=experiment.experiment_id) as run:\n",
    "    model = xgboost_train(training_data,params)"
   ]
  },
  {
   "cell_type": "markdown",
   "id": "3d083555-9bf7-4e49-959d-ddb5ccb6d492",
   "metadata": {},
   "source": [
    "#### 1.3.3 inspect results on uri"
   ]
  },
  {
   "cell_type": "code",
   "execution_count": null,
   "id": "211767d0-6744-429e-b64a-5d607a83a407",
   "metadata": {},
   "outputs": [],
   "source": [
    "f'click https://ml-registry.course.aiengineer.codex-platform.com/#/experiments/{experiment.experiment_id}'"
   ]
  },
  {
   "cell_type": "markdown",
   "id": "ec58b369-12fe-4d4c-b80c-9794c405458d",
   "metadata": {},
   "source": [
    "![exper](./images/exper.png)"
   ]
  },
  {
   "cell_type": "markdown",
   "id": "4094aacd-f645-4406-b6be-4f7a211216f7",
   "metadata": {},
   "source": [
    "## 2. Register model into registry"
   ]
  },
  {
   "cell_type": "markdown",
   "id": "19bd1360-4578-4fbf-942c-0a44edee2b1e",
   "metadata": {},
   "source": [
    "### 2.1 define client"
   ]
  },
  {
   "cell_type": "code",
   "execution_count": null,
   "id": "5c9d07a0-4b6b-4fdc-a266-e6fa72897bbd",
   "metadata": {},
   "outputs": [],
   "source": [
    "client = MlflowClient(tracking_uri='http://mlflow.mlflow.svc.cluster.local:5000')\n"
   ]
  },
  {
   "cell_type": "markdown",
   "id": "00a2ba47-7ccd-4629-8d56-ed291eaf4ece",
   "metadata": {},
   "source": [
    "### 2.2 Create the object model"
   ]
  },
  {
   "cell_type": "code",
   "execution_count": null,
   "id": "24d5b746-767d-4d48-85a2-d4591472a2e2",
   "metadata": {},
   "outputs": [],
   "source": [
    "### name your model\n",
    "name=\"ge_chicago_taxi_tips_with_features\""
   ]
  },
  {
   "cell_type": "code",
   "execution_count": null,
   "id": "66d83086-5975-4061-b557-5ab6a50e263f",
   "metadata": {},
   "outputs": [],
   "source": [
    "### create the associated entry in the registry\n",
    "client.create_registered_model(name)\n"
   ]
  },
  {
   "cell_type": "markdown",
   "id": "77c87330-53d3-48ef-a808-024e5be2847f",
   "metadata": {},
   "source": [
    "### 2.3 Create a model version from training logs"
   ]
  },
  {
   "cell_type": "code",
   "execution_count": null,
   "id": "e61fa35c-fa77-480b-bd30-949cbe14a5c9",
   "metadata": {},
   "outputs": [],
   "source": [
    "desc = \"A new taxi trip model trained with feast features\"\n",
    "runs_uri = f\"runs:/{run.info.run_id}/model\"\n",
    "model_src = RunsArtifactRepository.get_underlying_uri(runs_uri)\n",
    "mv = client.create_model_version(name, model_src, run.info.run_id, description=desc)\n",
    "print(\"Name: {}\".format(mv.name))\n",
    "print(\"Version: {}\".format(mv.version))\n",
    "print(\"Description: {}\".format(mv.description))\n",
    "print(\"Status: {}\".format(mv.status))\n",
    "print(\"Stage: {}\".format(mv.current_stage))"
   ]
  },
  {
   "cell_type": "markdown",
   "id": "0e641987-7d28-420d-b6f2-fa71c92a6bea",
   "metadata": {},
   "source": [
    "### Visualize the version"
   ]
  },
  {
   "cell_type": "code",
   "execution_count": null,
   "id": "d2448c7d-3ef0-4c14-984c-69b113669a2c",
   "metadata": {},
   "outputs": [],
   "source": [
    "f'click https://ml-registry.course.aiengineer.codex-platform.com/#/models/{mv.name}'"
   ]
  },
  {
   "cell_type": "markdown",
   "id": "76c977d0-d1eb-4f24-b1f7-58c863f24be8",
   "metadata": {},
   "source": [
    "![versions](./images/versions.png)"
   ]
  },
  {
   "cell_type": "markdown",
   "id": "b71f5afe-fb6e-430a-b0bd-fe0526a1461c",
   "metadata": {},
   "source": [
    "### 3. Pull the model from the registry to test some sample predictions\n"
   ]
  },
  {
   "cell_type": "markdown",
   "id": "94f56f3c-f604-4d5a-9234-d1c2614c10f4",
   "metadata": {},
   "source": [
    "### 3.0.1 pull the model using the snippet available in the experiment snippet page"
   ]
  },
  {
   "cell_type": "code",
   "execution_count": null,
   "id": "fc13e09b-56b1-4dfa-a393-68d9d52d5b76",
   "metadata": {},
   "outputs": [],
   "source": [
    "import mlflow.pyfunc\n",
    "\n",
    "model_name = mv.name\n",
    "stage = None\n",
    "\n",
    "modelfromRegistry = mlflow.pyfunc.load_model(\n",
    "    model_uri=f\"models:/{model_name}/{stage}\"\n",
    ")"
   ]
  },
  {
   "cell_type": "markdown",
   "id": "e9cf9ba0-4c9c-459e-ae55-35b79aa41c57",
   "metadata": {},
   "source": [
    "### 3.0.2 get some feast offline data to score"
   ]
  },
  {
   "cell_type": "code",
   "execution_count": null,
   "id": "9b659d04-ea19-46cd-80c3-fb775e7a587b",
   "metadata": {},
   "outputs": [],
   "source": [
    "# Choose a service to query features on\n",
    "feature_service = fs.get_feature_service(\"taxi_trip_service_v2\")\n",
    "\n",
    "# scope the features to retreive, here just 25 examples to score\n",
    "entity_df = pd.DataFrame.from_dict({\"index\": [12,78]})\n",
    "\n",
    "# take all timestamp older than now\n",
    "entity_df[\"event_timestamp\"] = pd.to_datetime(\"now\", utc=True)    \n",
    "\n",
    "# get the list of the wanted features, for the scoped entity dataframe\n",
    "feature_vector = fs.get_historical_features(\n",
    "    entity_df=entity_df,\n",
    "    features=feature_service,\n",
    ").to_df()\n"
   ]
  },
  {
   "cell_type": "code",
   "execution_count": null,
   "id": "e8d80728-94dd-4e2b-bc14-dcce2e876c04",
   "metadata": {},
   "outputs": [],
   "source": [
    "feature_vector.head()"
   ]
  },
  {
   "cell_type": "markdown",
   "id": "33603466-c627-4103-a676-79bbe2eb6265",
   "metadata": {},
   "source": [
    "### 3.0.3 do a  prediction on the feast online data using the model pulled from the registry"
   ]
  },
  {
   "cell_type": "code",
   "execution_count": null,
   "id": "8e7036e1-b989-4bce-99db-029354d19d1b",
   "metadata": {},
   "outputs": [],
   "source": [
    "modelfromRegistry.predict(feature_vector.drop('tips',axis=1).head())"
   ]
  },
  {
   "cell_type": "code",
   "execution_count": null,
   "id": "d7441e6b-7513-4699-843a-cb6a4dc6135e",
   "metadata": {},
   "outputs": [],
   "source": []
  }
 ],
 "metadata": {
  "kernelspec": {
   "display_name": "Python 3 (ipykernel)",
   "language": "python",
   "name": "python3"
  },
  "language_info": {
   "codemirror_mode": {
    "name": "ipython",
    "version": 3
   },
   "file_extension": ".py",
   "mimetype": "text/x-python",
   "name": "python",
   "nbconvert_exporter": "python",
   "pygments_lexer": "ipython3",
   "version": "3.8.10"
  },
  "vscode": {
   "interpreter": {
    "hash": "1db6d0c0fb62fcd92812f526c45c77dc568410c92bb0ad7cc615a53ad33175c5"
   }
  }
 },
 "nbformat": 4,
 "nbformat_minor": 5
}
