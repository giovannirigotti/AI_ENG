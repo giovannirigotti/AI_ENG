{
 "cells": [
  {
   "cell_type": "code",
   "execution_count": 5,
   "id": "b0346205-e46d-43d2-8150-8a690a7c058a",
   "metadata": {},
   "outputs": [],
   "source": [
    "import kfp as kfp\n",
    "import kfp.dsl as dsl\n",
    "from kfp import components\n",
    "import os\n",
    "from kfp.components import InputPath, OutputPath, create_component_from_func"
   ]
  },
  {
   "cell_type": "code",
   "execution_count": 6,
   "id": "3acdf9ce-9608-495b-9f5e-062d13fa9f0c",
   "metadata": {},
   "outputs": [],
   "source": [
    "def get_data_from_minio(\n",
    "    minio_path: str,\n",
    "    bucket: str,\n",
    "    dest_file_path: OutputPath(),\n",
    "    ):\n",
    "    \n",
    "    import numpy\n",
    "    from io import BytesIO\n",
    "    import pandas as pd\n",
    "    import urllib3\n",
    "    from minio import Minio\n",
    "    import os\n",
    "    import pyarrow\n",
    "    \n",
    "    client = Minio(\n",
    "    \"storage-api.course.aiengineer.codex-platform.com\",\n",
    "    access_key=os.getenv(\"MINIO_ACCESS_KEY\"),\n",
    "    secret_key=os.getenv(\"MINIO_SECRET_KEY\"),\n",
    "        secure=True,\n",
    "        http_client=urllib3.PoolManager(\n",
    "\n",
    "        retries=urllib3.Retry(\n",
    "            total=5,\n",
    "            backoff_factor=0.2,\n",
    "            status_forcelist=[500, 502, 503, 504],\n",
    "        ),\n",
    "    ),\n",
    "    )\n",
    "    buff = client.list_buckets()\n",
    "    for b in buff:\n",
    "        print(b.name)\n",
    "        # Get data from minio using get_object, decode it using BytesIO and read the parquet result with pandas\n",
    "    try:\n",
    "        response = client.get_object(bucket, minio_path)\n",
    "        print(response)\n",
    "        # Read data from response.\n",
    "        parquet_object=BytesIO(response.data)\n",
    "        data = pd.read_parquet(parquet_object)\n",
    "    finally:\n",
    "        response.close()\n",
    "        response.release_conn()\n",
    "    ### pass dataset to component output\n",
    "    data.to_parquet(dest_file_path)"
   ]
  },
  {
   "cell_type": "code",
   "execution_count": 7,
   "id": "2188a5a2-2316-45a5-abb6-413fe71d85b4",
   "metadata": {},
   "outputs": [
    {
     "data": {
      "text/plain": [
       "<function Get data from minio(minio_path: str, bucket: str)>"
      ]
     },
     "execution_count": 7,
     "metadata": {},
     "output_type": "execute_result"
    }
   ],
   "source": [
    "create_component_from_func(\n",
    "    get_data_from_minio,\n",
    "    output_component_file='get_data_from_minio.yaml',\n",
    "    base_image='python:3.8',\n",
    "    packages_to_install=[\n",
    "        'numpy==1.21.6',\n",
    "        'minio==6.0.2',\n",
    "        'pandas==1.0.5',\n",
    "        'pyarrow==10.0.1'\n",
    "    ],\n",
    ")"
   ]
  },
  {
   "cell_type": "code",
   "execution_count": null,
   "id": "10817f39-d352-4e27-8817-2cdb4bf81897",
   "metadata": {},
   "outputs": [],
   "source": []
  }
 ],
 "metadata": {
  "kernelspec": {
   "display_name": "Python 3 (ipykernel)",
   "language": "python",
   "name": "python3"
  },
  "language_info": {
   "codemirror_mode": {
    "name": "ipython",
    "version": 3
   },
   "file_extension": ".py",
   "mimetype": "text/x-python",
   "name": "python",
   "nbconvert_exporter": "python",
   "pygments_lexer": "ipython3",
   "version": "3.8.10"
  },
  "vscode": {
   "interpreter": {
    "hash": "1db6d0c0fb62fcd92812f526c45c77dc568410c92bb0ad7cc615a53ad33175c5"
   }
  }
 },
 "nbformat": 4,
 "nbformat_minor": 5
}
