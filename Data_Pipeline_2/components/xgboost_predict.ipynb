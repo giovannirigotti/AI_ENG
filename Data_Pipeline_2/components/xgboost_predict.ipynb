{
 "cells": [
  {
   "cell_type": "code",
   "execution_count": 1,
   "id": "7c166db4-145b-490b-80fa-0372db6b9e48",
   "metadata": {},
   "outputs": [],
   "source": [
    "import kfp as kfp\n",
    "import kfp.dsl as dsl\n",
    "from kfp import components\n",
    "import os\n",
    "from kfp.components import InputPath, OutputPath, create_component_from_func"
   ]
  },
  {
   "cell_type": "code",
   "execution_count": 2,
   "id": "b2effac9-859e-4637-99ad-d2a13337218a",
   "metadata": {},
   "outputs": [],
   "source": [
    "def xgboost_predict(\n",
    "    data_path: InputPath('CSV'),  # Also supports LibSVM\n",
    "    model_path: InputPath('XGBoostModel'),\n",
    "    predictions_path: OutputPath('Predictions'),\n",
    "    label_column: int = None,\n",
    "):\n",
    "    '''Make predictions using a trained XGBoost model.\n",
    "    Args:\n",
    "        data_path: Path for the feature data in CSV format.\n",
    "        model_path: Path for the trained model in binary XGBoost format.\n",
    "        predictions_path: Output path for the predictions.\n",
    "        label_column: Column containing the label data.\n",
    "    '''\n",
    "    from pathlib import Path\n",
    "\n",
    "    import numpy\n",
    "    import pandas\n",
    "    import xgboost\n",
    "    import pyarrow\n",
    "\n",
    "    df = pandas.read_parquet(\n",
    "        data_path,\n",
    "    )\n",
    "    \n",
    "    ### autoclean data to allow only copatible types in features\n",
    "    numerics = ['int','float']\n",
    "    df = df.select_dtypes(include=numerics)\n",
    "\n",
    "    if label_column is not None:\n",
    "        df = df.drop(columns=[df.columns[label_column]])\n",
    "\n",
    "    testing_data = xgboost.DMatrix(\n",
    "        data=df,\n",
    "    )\n",
    "\n",
    "    model = xgboost.Booster(model_file=model_path)\n",
    "\n",
    "    predictions = model.predict(testing_data)\n",
    "\n",
    "    Path(predictions_path).parent.mkdir(parents=True, exist_ok=True)\n",
    "    numpy.savetxt(predictions_path, predictions)"
   ]
  },
  {
   "cell_type": "code",
   "execution_count": 3,
   "id": "8fab62a2-0204-4130-9ec6-31034f47d576",
   "metadata": {},
   "outputs": [
    {
     "data": {
      "text/plain": [
       "<function Xgboost predict(data: 'CSV', model: 'XGBoostModel', label_column: int = None)>"
      ]
     },
     "execution_count": 3,
     "metadata": {},
     "output_type": "execute_result"
    }
   ],
   "source": [
    "create_component_from_func(\n",
    "    xgboost_predict,\n",
    "    output_component_file='xgb_predict.yaml',\n",
    "    base_image='python:3.7',\n",
    "    packages_to_install=[\n",
    "        'xgboost==1.1.1',\n",
    "        'pandas==1.0.5',\n",
    "        'pyarrow==10.0.1'\n",
    "    ],\n",
    ")"
   ]
  },
  {
   "cell_type": "code",
   "execution_count": null,
   "id": "e4c5b360-7c20-452e-b0aa-9a230c5c5b88",
   "metadata": {},
   "outputs": [],
   "source": []
  }
 ],
 "metadata": {
  "kernelspec": {
   "display_name": "Python 3 (ipykernel)",
   "language": "python",
   "name": "python3"
  },
  "language_info": {
   "codemirror_mode": {
    "name": "ipython",
    "version": 3
   },
   "file_extension": ".py",
   "mimetype": "text/x-python",
   "name": "python",
   "nbconvert_exporter": "python",
   "pygments_lexer": "ipython3",
   "version": "3.8.10"
  }
 },
 "nbformat": 4,
 "nbformat_minor": 5
}
