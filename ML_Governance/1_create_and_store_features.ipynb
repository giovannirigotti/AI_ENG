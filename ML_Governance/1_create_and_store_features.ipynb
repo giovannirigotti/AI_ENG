{
 "cells": [
  {
   "cell_type": "markdown",
   "id": "2cc6904b-b484-4520-a620-82d3d8764fc9",
   "metadata": {},
   "source": [
    "# Create and store features"
   ]
  },
  {
   "cell_type": "markdown",
   "id": "28229e10-368d-4746-9a67-96c050e44241",
   "metadata": {},
   "source": [
    "We saw in the previous notebook that data governance help to discover, browse and see lineage of the data, now we want to see ML specific governance, with the creation of model understandable features from data"
   ]
  },
  {
   "cell_type": "markdown",
   "id": "b2637a7e-3104-4f35-83e0-4206a0947480",
   "metadata": {},
   "source": [
    "## 0.0 install and import dependancies"
   ]
  },
  {
   "cell_type": "code",
   "execution_count": null,
   "id": "f50bc65d-c3db-47b4-b7aa-1da96a5a1af3",
   "metadata": {
    "collapsed": true,
    "jupyter": {
     "outputs_hidden": true
    },
    "tags": []
   },
   "outputs": [],
   "source": [
    "# install dependancies : feast that is the feature store python package, and pyarrow that will be used to source our dataset\n",
    "%pip install feast==0.34.1 pyarrow==10.0.1"
   ]
  },
  {
   "cell_type": "code",
   "execution_count": null,
   "id": "8135e4d0-7015-459d-ad03-139cdca06055",
   "metadata": {
    "tags": []
   },
   "outputs": [],
   "source": [
    "# import dependancies\n",
    "import pandas as pd\n",
    "### feature store specific dependancies\n",
    "from feast import (\n",
    "    FeatureStore,\n",
    "    Entity,\n",
    "    FeatureService,\n",
    "    FeatureView,\n",
    "    Field,\n",
    "    FileSource,\n",
    "    PushSource,\n",
    "    RequestSource,\n",
    "    RepoConfig,\n",
    ")\n",
    "from feast.on_demand_feature_view import on_demand_feature_view\n",
    "from feast.data_source import PushMode\n",
    "from feast.types import Float32, Float64, Int64,UnixTimestamp, String\n",
    "import requests\n",
    "import json\n",
    "from datetime import timedelta, datetime"
   ]
  },
  {
   "cell_type": "markdown",
   "id": "f3a06e52-f17d-4d4c-a02b-08cc3203b63a",
   "metadata": {},
   "source": [
    "## 0.1 create the store"
   ]
  },
  {
   "cell_type": "code",
   "execution_count": null,
   "id": "8f3fe62d-1b25-48d2-b924-4afa900438c1",
   "metadata": {},
   "outputs": [],
   "source": [
    "# a yaml file is provided to create a feature store relying on postgres db\n",
    "%cat feature_repo/feature_store.yaml"
   ]
  },
  {
   "cell_type": "code",
   "execution_count": null,
   "id": "9f0f8020-c0f9-40b3-b39d-baa38bdf5f90",
   "metadata": {},
   "outputs": [],
   "source": [
    "# here we will \n",
    "fs = FeatureStore(repo_path=\"./feature_repo\")"
   ]
  },
  {
   "cell_type": "markdown",
   "id": "32dac5e1-6baf-4451-9912-755cfe56bdb8",
   "metadata": {},
   "source": [
    "## 0.2 Create a source that will be used in the registry"
   ]
  },
  {
   "cell_type": "markdown",
   "id": "c725432b-64d8-4e4c-904f-41afb259fd7a",
   "metadata": {},
   "source": [
    "### 0.2.1 Ensure source requirements (provide an index, a time column and export it in parquet)"
   ]
  },
  {
   "cell_type": "code",
   "execution_count": null,
   "id": "b6c612cd-f94f-4971-8648-8a01c845e5b6",
   "metadata": {},
   "outputs": [],
   "source": [
    "## read local data from local repository\n",
    "data = pd.read_csv(\"../Data_Pipeline_2/chicagodata/trip.csv\")"
   ]
  },
  {
   "cell_type": "code",
   "execution_count": null,
   "id": "39323c1f-4418-4d32-b8c4-56946d9083d1",
   "metadata": {},
   "outputs": [],
   "source": [
    "### Transform trip_start_timestamp field to a datetime field\n",
    "data[['trip_start_timestamp']] = data[['trip_start_timestamp']].apply(pd.to_datetime)\n",
    "### add an index column that will be used as a join key\n",
    "data = data.reset_index()"
   ]
  },
  {
   "cell_type": "code",
   "execution_count": null,
   "id": "3b087f83-25d0-4f61-a4e9-f251469d2287",
   "metadata": {},
   "outputs": [],
   "source": [
    "%mkdir chicagodata"
   ]
  },
  {
   "cell_type": "code",
   "execution_count": null,
   "id": "561b55d0-9cee-4b66-b9d2-8c882aa915a5",
   "metadata": {},
   "outputs": [],
   "source": [
    "### Persist locally as parquet data\n",
    "data.to_parquet('chicagodata/trip.parquet')"
   ]
  },
  {
   "cell_type": "markdown",
   "id": "4610b34e-07e0-4175-8636-9033310d2c8e",
   "metadata": {},
   "source": [
    "### 0.2.2 register the source "
   ]
  },
  {
   "cell_type": "code",
   "execution_count": null,
   "id": "94aed394-26e1-4824-add0-779151df1cd2",
   "metadata": {},
   "outputs": [],
   "source": [
    "taxi_data_source = FileSource(\n",
    "    path=\"chicagodata/trip.parquet\",\n",
    "        event_timestamp_column=\"trip_start_timestamp\"\n",
    ")"
   ]
  },
  {
   "cell_type": "markdown",
   "id": "b719fef5-1c89-42cd-9974-7364d20d358c",
   "metadata": {},
   "source": [
    "## 0.3 Create an Entity"
   ]
  },
  {
   "cell_type": "markdown",
   "id": "413bdde9-b971-46e0-9382-9fdb930f0352",
   "metadata": {},
   "source": [
    "The entity represent a business object, a logical group"
   ]
  },
  {
   "cell_type": "code",
   "execution_count": null,
   "id": "001c57ce-a733-4ac0-8f90-315658fcaf9a",
   "metadata": {},
   "outputs": [],
   "source": [
    "# fill with your initials --> john-doe initials : jd\n",
    "username_initials = ''"
   ]
  },
  {
   "cell_type": "code",
   "execution_count": null,
   "id": "34d0b181-a6c3-418d-a598-19b37eb99bc3",
   "metadata": {},
   "outputs": [],
   "source": [
    "### here we create an entity \"taxi_trip\", its features could be its duration, length ...\n",
    "taxi_trip_entity = Entity(name=f\"taxi_trip_{username_initials}\", join_keys=[\"index\"])"
   ]
  },
  {
   "cell_type": "markdown",
   "id": "df4a7741-e581-46f7-9cd7-ad64d5512d6f",
   "metadata": {},
   "source": [
    "## 0.4 Create our modelisations"
   ]
  },
  {
   "cell_type": "markdown",
   "id": "7518ef3d-5ef2-4820-befe-e7d926ef37e6",
   "metadata": {},
   "source": [
    "### 0.4.1 Create a feature view that map the source"
   ]
  },
  {
   "cell_type": "code",
   "execution_count": null,
   "id": "0a4f7847-7353-4594-9df5-b033927a920b",
   "metadata": {},
   "outputs": [],
   "source": [
    "### Let's create a feature view that will map our source into features\n",
    "### using feast documentation define the schema with the right types.\n",
    "taxi_trip_all_stats= FeatureView(\n",
    "    name=f\"taxi_trip_all_stats_{username_initials}\",\n",
    "    ttl=timedelta(days=365),\n",
    "    entities=[taxi_trip_entity],\n",
    "    schema=[\n",
    "        Field(name=\"index\", dtype=Int64),\n",
    "        Field(name=\"tips\",dtype=Int64),\n",
    "        Field(name=\"trip_start_timestamp\", dtype=UnixTimestamp),\n",
    "        Field(name=\"trip_seconds\", dtype=Int64),\n",
    "        Field(name=\"trip_miles\", dtype=Float64),\n",
    "        Field(name=\"pickup_community_area\", dtype=Float64),\n",
    "        Field(name=\"pickup_centroid_latitude\", dtype=Float64),\n",
    "        Field(name=\"pickup_centroid_longitude\", dtype=Float64),\n",
    "        Field(name=\"dropoff_community_area\", dtype=Float64),\n",
    "        Field(name=\"fare\", dtype=Float64),\n",
    "        Field(name=\"tolls\", dtype=Float64),\n",
    "        Field(name=\"extras\", dtype=Float64),\n",
    "        Field(name=\"trip_total\", dtype=Float64)\n",
    "    ],\n",
    "    source=taxi_data_source,\n",
    "    tags={'sticktodata':\"yes\"}\n",
    ")"
   ]
  },
  {
   "cell_type": "markdown",
   "id": "1f374103-b90f-4765-b1f0-57c6d472c226",
   "metadata": {},
   "source": [
    "## 0.5 Create a service that serve a set of feature views, corresponding to your futur model"
   ]
  },
  {
   "cell_type": "code",
   "execution_count": null,
   "id": "93ec1ab6-b42a-48f9-b5da-c9e0e485566e",
   "metadata": {},
   "outputs": [],
   "source": [
    "taxi_trip_service = FeatureService(\n",
    "    name=\"taxi_trip_service_v1\",\n",
    "    features=[taxi_trip_all_stats],\n",
    ")"
   ]
  },
  {
   "cell_type": "markdown",
   "id": "9cc75b64-b5ac-4349-aac8-58caabff06a7",
   "metadata": {},
   "source": [
    "## 0.6 Create all feast resources"
   ]
  },
  {
   "cell_type": "code",
   "execution_count": null,
   "id": "eb14faca-56af-40e5-94e0-d9ff01f981eb",
   "metadata": {},
   "outputs": [],
   "source": [
    "### we want to apply to objects we created (entities, features views)\n",
    "fs.apply([taxi_data_source,taxi_trip_entity,taxi_trip_all_stats,taxi_trip_service])"
   ]
  },
  {
   "cell_type": "markdown",
   "id": "41ab4808-9bbf-4e21-bac4-30b487c196fe",
   "metadata": {},
   "source": [
    "Now in the FEAST UI, we can see the model that we just created, browse the feature view to see what has been created"
   ]
  },
  {
   "cell_type": "markdown",
   "id": "88f4db0f-c1eb-42b6-b527-0e3b9463a796",
   "metadata": {},
   "source": [
    "## 1.0 Test the offline \n"
   ]
  },
  {
   "cell_type": "markdown",
   "id": "995f3dc3-b18c-425c-b7e4-4473dda00f46",
   "metadata": {},
   "source": [
    "Here we will get a sample from the offline store, simulating a call for model training"
   ]
  },
  {
   "cell_type": "code",
   "execution_count": null,
   "id": "93ea4007-3186-42a6-9826-5719631e5fa7",
   "metadata": {
    "tags": []
   },
   "outputs": [],
   "source": [
    "# scope the features to retreive\n",
    "# take the 1000 first index\n",
    "entity_df = pd.DataFrame.from_dict({\"index\": [*range(1, 1001)]})\n",
    "# take all timestamp older than now\n",
    "entity_df[\"event_timestamp\"] = pd.to_datetime(\"now\", utc=True)       \n",
    "\n",
    "# reset the store used\n",
    "store = FeatureStore(repo_path=\"./feature_repo\")\n",
    "\n",
    "# get the list of the wanted features, for the scoped entity dataframe\n",
    "training_data = store.get_historical_features(\n",
    "    entity_df=entity_df,\n",
    "    features=[\n",
    "        \"taxi_trip_all_stats_ge:trip_seconds\",\n",
    "        \"taxi_trip_all_stats_ge:fare\",\n",
    "        \"taxi_trip_all_stats_ge:trip_start_timestamp\"\n",
    "    ],\n",
    ").to_df()"
   ]
  },
  {
   "cell_type": "code",
   "execution_count": null,
   "id": "1e1d8b29-e1fb-45f5-8465-fc8895e495e0",
   "metadata": {},
   "outputs": [],
   "source": [
    "training_data.head()"
   ]
  },
  {
   "cell_type": "markdown",
   "id": "ef2ed11b-dfa4-44d4-be79-450fedf0f7e3",
   "metadata": {},
   "source": [
    "## 1.1 Test the online store"
   ]
  },
  {
   "cell_type": "markdown",
   "id": "dc7e2a23-4258-4a7e-911c-54b44d587c42",
   "metadata": {},
   "source": [
    "### 1.1.1 Materialization"
   ]
  },
  {
   "cell_type": "markdown",
   "id": "a2355aa2-c5d6-4447-882f-d6b01984337e",
   "metadata": {},
   "source": [
    "materialization feed the source into the online store! (made for inference), here our dataset is static so we take a wide timedelta to get all data in the store"
   ]
  },
  {
   "cell_type": "code",
   "execution_count": null,
   "id": "58f3d192-9075-4d02-a7b5-5827d12aa391",
   "metadata": {
    "tags": []
   },
   "outputs": [],
   "source": [
    "store.materialize(end_date=datetime.now(),start_date=datetime.now() - timedelta(days=700))"
   ]
  },
  {
   "cell_type": "markdown",
   "id": "e1982661-804e-4a46-a15c-11780fffe887",
   "metadata": {},
   "source": [
    "### 1.1.2 Query the online store"
   ]
  },
  {
   "cell_type": "code",
   "execution_count": null,
   "id": "596a9313-9412-4720-8db2-528c1b3f37b8",
   "metadata": {},
   "outputs": [],
   "source": [
    "from pprint import pprint"
   ]
  },
  {
   "cell_type": "code",
   "execution_count": null,
   "id": "b75b705f-4e63-4e22-8008-7b52858d1616",
   "metadata": {},
   "outputs": [],
   "source": [
    "# Now the scope is automaticaly the freshest version of the data, if a trip could existing several time, your we got only the last\n",
    "# we use the scope of our service\n",
    "feature_service = store.get_feature_service(\"taxi_trip_service_v1\")\n",
    "feature_vector  = store.get_online_features(\n",
    "    features=feature_service,\n",
    "    entity_rows=[\n",
    "        {\"index\":12},{\"index\":78}\n",
    "    ]\n",
    ").to_dict()"
   ]
  },
  {
   "cell_type": "code",
   "execution_count": null,
   "id": "c3e5f3fe-3b91-4d28-9344-d89b3bcc4ede",
   "metadata": {},
   "outputs": [],
   "source": [
    "pprint(feature_vector)"
   ]
  },
  {
   "cell_type": "markdown",
   "id": "5273e139-d474-4143-a735-b03daea3ca76",
   "metadata": {},
   "source": [
    "---"
   ]
  },
  {
   "cell_type": "markdown",
   "id": "a39e58cc-3065-454c-959a-25dcce85fdae",
   "metadata": {},
   "source": [
    "## 2.0 Create custom features"
   ]
  },
  {
   "cell_type": "markdown",
   "id": "cf32ca2a-3844-4872-8036-76ab93fdf679",
   "metadata": {},
   "source": [
    "Using \"on demand views\" and user defined functions, we are able to create features that derivate from other features.\n",
    "\n",
    "So Here we can create NEW features that were not part of our initial dataset"
   ]
  },
  {
   "cell_type": "code",
   "execution_count": null,
   "id": "928e6286-09ab-4491-8398-c6a01523518d",
   "metadata": {},
   "outputs": [],
   "source": [
    "from feast.on_demand_feature_view import OnDemandFeatureView"
   ]
  },
  {
   "cell_type": "markdown",
   "id": "1cbd7963-d983-47bf-b402-6314cc17093e",
   "metadata": {},
   "source": [
    "### 2.0.1 Define the feature logic in an udf"
   ]
  },
  {
   "cell_type": "code",
   "execution_count": null,
   "id": "94c2d138-8a8d-4188-b4ea-64f697db969f",
   "metadata": {},
   "outputs": [],
   "source": [
    "# here we want to create a single feature to represent pickup centroid longitude and latitude\n",
    "def customfeatures(features_df: pd.DataFrame) -> pd.DataFrame:\n",
    "    \"\"\"\n",
    "    inputs:\n",
    "    features_df : the feature inputs df\n",
    "    return:\n",
    "    a dataframe containing the new features\n",
    "    \"\"\"\n",
    "    df = pd.DataFrame()\n",
    "    df['pickup_centroid_latlon'] = (features_df['pickup_centroid_latitude'] * features_df['pickup_centroid_longitude'])\n",
    "    return df"
   ]
  },
  {
   "cell_type": "markdown",
   "id": "3cc054c9-4e3c-41ba-99bb-de79c8e62617",
   "metadata": {},
   "source": [
    "### 2.0.2 Create a feature view containing the udf result"
   ]
  },
  {
   "cell_type": "code",
   "execution_count": null,
   "id": "2bca5f77-c59d-41ec-8029-8582853e7411",
   "metadata": {},
   "outputs": [],
   "source": [
    "\n",
    "taxitrip_pickup_lonlat = OnDemandFeatureView(\n",
    "    name='taxitrip_pickup_lonlat', # the name of the feature view\n",
    "    sources=[taxi_trip_all_stats], # the sources needed to create the custom feature\n",
    "    schema=[\n",
    "        Field(name='pickup_centroid_latlon', dtype=Float64)\n",
    "    ], # the schema of the feature view (correspond to the udf return)\n",
    "    udf=customfeatures # reference to the udf\n",
    ")"
   ]
  },
  {
   "cell_type": "markdown",
   "id": "e581d9a5-31a7-4ec9-be06-6e78f2e34916",
   "metadata": {},
   "source": [
    "### 2.0.3 Create a new service that add your custom feature in addition to the initial feature view"
   ]
  },
  {
   "cell_type": "code",
   "execution_count": null,
   "id": "f150b56d-7910-40b2-b163-7f56a8e4b941",
   "metadata": {},
   "outputs": [],
   "source": [
    "taxi_trip_service_v2 = FeatureService(\n",
    "    name=\"taxi_trip_service_v2\", # name of the service\n",
    "    features=[\n",
    "        taxi_trip_all_stats, # initial feature view (we need here to provide here at least all inputs features for our custom feature)\n",
    "        taxitrip_pickup_lonlat, # the custom feature added\n",
    "    ],\n",
    ")"
   ]
  },
  {
   "cell_type": "markdown",
   "id": "8a4e9650-c3a8-4928-b32f-ef2e5e6b8c33",
   "metadata": {},
   "source": [
    "### 2.0.4 Apply new objects (custom feature view, new service)"
   ]
  },
  {
   "cell_type": "code",
   "execution_count": null,
   "id": "a0c6f69e-c290-46b7-a478-199dd4288013",
   "metadata": {
    "tags": []
   },
   "outputs": [],
   "source": [
    "fs.apply([taxi_data_source,taxi_trip_entity,taxi_trip_all_stats,taxi_trip_service,taxitrip_pickup_lonlat,taxi_trip_service_v2])"
   ]
  },
  {
   "cell_type": "markdown",
   "id": "22f39f7e-fb69-4865-9620-f2deda35563f",
   "metadata": {},
   "source": [
    "### 2.1.0 Test the offline store with the new service"
   ]
  },
  {
   "cell_type": "code",
   "execution_count": null,
   "id": "201c6732-7669-48df-aced-3e5aabc08397",
   "metadata": {
    "tags": []
   },
   "outputs": [],
   "source": [
    "# Choose a service to query features on\n",
    "feature_service = store.get_feature_service(\"taxi_trip_service_v2\")\n",
    "\n",
    "# scope the features to retreive\n",
    "# take the 1000 first index\n",
    "entity_df = pd.DataFrame.from_dict({\"index\": [*range(1, 1001)]})\n",
    "\n",
    "# take all timestamp older than now\n",
    "entity_df[\"event_timestamp\"] = pd.to_datetime(\"now\", utc=True)    \n",
    "\n",
    "# reset the store used\n",
    "store = FeatureStore(repo_path=\"./feature_repo\")\n",
    "\n",
    "# get the list of the wanted features, for the scoped entity dataframe\n",
    "training_data = store.get_historical_features(\n",
    "    entity_df=entity_df,\n",
    "    features=feature_service,\n",
    ").to_df()"
   ]
  },
  {
   "cell_type": "code",
   "execution_count": null,
   "id": "29952cd4-a6c9-43b6-92ae-701694ed540a",
   "metadata": {},
   "outputs": [],
   "source": [
    "### check that the new columns are availables\n",
    "training_data.head()"
   ]
  }
 ],
 "metadata": {
  "kernelspec": {
   "display_name": "Python 3 (ipykernel)",
   "language": "python",
   "name": "python3"
  },
  "language_info": {
   "codemirror_mode": {
    "name": "ipython",
    "version": 3
   },
   "file_extension": ".py",
   "mimetype": "text/x-python",
   "name": "python",
   "nbconvert_exporter": "python",
   "pygments_lexer": "ipython3",
   "version": "3.8.10"
  },
  "vscode": {
   "interpreter": {
    "hash": "1db6d0c0fb62fcd92812f526c45c77dc568410c92bb0ad7cc615a53ad33175c5"
   }
  }
 },
 "nbformat": 4,
 "nbformat_minor": 5
}
