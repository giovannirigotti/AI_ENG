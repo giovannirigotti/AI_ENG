{
 "cells": [
  {
   "cell_type": "markdown",
   "id": "66221570-6ee6-4ac6-b7d4-2a0c400b6497",
   "metadata": {},
   "source": [
    "# Get data using datahub catalog"
   ]
  },
  {
   "cell_type": "markdown",
   "id": "fa6cdc26",
   "metadata": {},
   "source": [
    "datahub uri : [https://datahub.course.aiengineer.codex-platform.com/](https://datahub.course.aiengineer.codex-platform.com/)"
   ]
  },
  {
   "cell_type": "markdown",
   "id": "720160ad-dad7-46e8-8d52-d0bdde291141",
   "metadata": {},
   "source": [
    "In this notebook we want to access some data browsing the datahub catalog.\n",
    "\n",
    "We should be able to see our chicago data in clickhouse, thanks to the [../Data_Platform_Foundation/1_empower_analysis_with_db_and_viz.ipynb](../Data_Platform_Foundation/1_empower_analysis_with_db_and_viz.ipynb) notebook\n",
    "\n",
    "Let's verify that the data is in clickhouse before continuing"
   ]
  },
  {
   "cell_type": "markdown",
   "id": "83b15e4d-058f-4ddb-b280-a06392d1b181",
   "metadata": {},
   "source": [
    "## 0.0 Prerequisite : chigago taxi data in clickhouse"
   ]
  },
  {
   "cell_type": "code",
   "execution_count": null,
   "id": "f15f83f3-6ad1-403f-a496-c315e60fc611",
   "metadata": {},
   "outputs": [],
   "source": [
    "#pip install pandahouse minio\n",
    "import pandahouse as ph\n",
    "import pandas as pd"
   ]
  },
  {
   "cell_type": "code",
   "execution_count": null,
   "id": "5cdd90d2-6425-4fb8-a911-8c335fa16686",
   "metadata": {},
   "outputs": [],
   "source": [
    "### helper function for handle this python client\n",
    "def write_clickhouse(query,connection):\n",
    "    print(query)\n",
    "    try:\n",
    "        ph.read_clickhouse(query,connection=connection)\n",
    "    except KeyError:\n",
    "        print(\"Nothing to return\")"
   ]
  },
  {
   "cell_type": "code",
   "execution_count": null,
   "id": "db83933b-8f8b-4857-8c94-43cd86247e6d",
   "metadata": {},
   "outputs": [],
   "source": [
    "##db name is firstname_lastname like your username but with \"_\" instead of \"-\"\n",
    "dbname = ''#firstname_lastname\n",
    "dbtable='chicago_taxi'\n",
    "## connect with your dbname\n",
    "connection = dict(database=dbname,\n",
    "                  host='http://clickhouse-install.clickhouse.svc.cluster.local:8123',\n",
    "                  user='admin',\n",
    "                  password='B1gdata-demo')"
   ]
  },
  {
   "cell_type": "code",
   "execution_count": null,
   "id": "42be1cce-d1d9-4c81-b78d-1afc10299e4d",
   "metadata": {},
   "outputs": [],
   "source": [
    "# verifiy if the db exists\n",
    "ph.read_clickhouse(f\"show databases\",connection=connection)"
   ]
  },
  {
   "cell_type": "markdown",
   "id": "95126f78-34b0-4435-8eb9-bcf2352f50f7",
   "metadata": {},
   "source": [
    "If you see your database, verify your dataset is present, if you can't see your database : go to 0.1, otherwise, go directly to 1.0"
   ]
  },
  {
   "cell_type": "code",
   "execution_count": null,
   "id": "16b45b5f-87e4-4f0e-9447-44b0c74ab4e5",
   "metadata": {},
   "outputs": [],
   "source": [
    "ph.read_clickhouse(f\"select * from {dbname}.{dbtable} limit 5\",connection=connection).head()"
   ]
  },
  {
   "cell_type": "markdown",
   "id": "182c60c4-a2d7-410a-a6ea-632849b6a981",
   "metadata": {},
   "source": [
    "## 0.1 Recover taxi trips and push into clickhouse (if it is not already here)"
   ]
  },
  {
   "cell_type": "code",
   "execution_count": null,
   "id": "6f7bebe8-c681-4a17-bb5a-ea1e09f875c1",
   "metadata": {},
   "outputs": [],
   "source": [
    "# Get the dataset Taxi Trips as CSV\n",
    "!curl --get 'https://data.cityofchicago.org/resource/wrvz-psew.csv' \\\n",
    "  --data-urlencode '$limit=10000' \\\n",
    "  --data-urlencode '$where=trip_start_timestamp >= \"2023-01-01\" AND trip_start_timestamp < \"2023-02-01\"' \\\n",
    "  --data-urlencode '$select=tips,trip_start_timestamp,trip_seconds,trip_miles,pickup_community_area,pickup_centroid_latitude,pickup_centroid_longitude,dropoff_community_area,fare,tolls,extras,trip_total' \\\n",
    "  | tr -d '\"' > \"./chicagodata/trip.csv\""
   ]
  },
  {
   "cell_type": "code",
   "execution_count": null,
   "id": "2d87281c-8c33-4bb7-b904-0891ada8e580",
   "metadata": {},
   "outputs": [],
   "source": [
    "#pip install pandahouse minio\n",
    "import pandahouse as ph\n",
    "import pandas as pd"
   ]
  },
  {
   "cell_type": "code",
   "execution_count": null,
   "id": "3e9828b2-bb52-4965-9941-967b9089d6bd",
   "metadata": {},
   "outputs": [],
   "source": [
    "## create your db name with your username but with \"_\" instead of \"-\"\n",
    "dbname = ''#firstname_lastname\n",
    "\n",
    "## The connection dict need a default database\n",
    "connection = dict(database='default',\n",
    "                  host='http://clickhouse-install.clickhouse.svc.cluster.local:8123',\n",
    "                  user='admin',\n",
    "                  password='B1gdata-demo')\n",
    "\n",
    "\n",
    "write_clickhouse(f\"create database {dbname}\",connection)\n",
    "\n",
    "connection['database'] = f\"{dbname}\"\n",
    "\n",
    "print(connection)"
   ]
  },
  {
   "cell_type": "code",
   "execution_count": null,
   "id": "fcb6a50a-e53c-4d16-b7f4-6f152403e5d4",
   "metadata": {},
   "outputs": [],
   "source": [
    "## get data\n",
    "dbtable='chicago_taxi'\n",
    "data = pd.read_csv(\"./chicagodata/trip.csv\")\n",
    "### select features\n",
    "features = data[[\n",
    "    \"tips\",\n",
    "    \"trip_start_timestamp\",\n",
    "    \"trip_seconds\",\n",
    "    \"trip_miles\",\n",
    "    \"pickup_community_area\" ,\n",
    "    \"dropoff_community_area\" ,\n",
    "    \"fare\",\n",
    "    \"tolls\",\n",
    "    \"extras\",\n",
    "    \"trip_total\"\n",
    "]]"
   ]
  },
  {
   "cell_type": "code",
   "execution_count": null,
   "id": "23c3a28d-8ae0-4bf2-96bd-e650513ca36f",
   "metadata": {},
   "outputs": [],
   "source": [
    "### create table for inserting taxi trip dataset \n",
    "## Clickhouse table definition\n",
    "# using the df informations, and clickhouse documentation write  the create table statement\n",
    "taxitable = f\"\"\"\n",
    "CREATE TABLE {dbname}.{dbtable}\n",
    "(\n",
    "    `tips` Float32,\n",
    "    `trip_start_timestamp` DateTime,\n",
    "    `trip_seconds` Float32,\n",
    "    `trip_miles` Float32,\n",
    "    `pickup_community_area` Float32,\n",
    "    `dropoff_community_area` Float32,\n",
    "    `fare` Float32,\n",
    "    `tolls` Float32,\n",
    "    `extras` Float32,\n",
    "    `trip_total` Float32\n",
    ") \n",
    "ENGINE = MergeTree\n",
    "PARTITION BY toYYYYMM(trip_start_timestamp)\n",
    "ORDER BY trip_start_timestamp;\n",
    "\"\"\""
   ]
  },
  {
   "cell_type": "code",
   "execution_count": null,
   "id": "01557481-ab79-4a79-b099-6b9813d0432f",
   "metadata": {},
   "outputs": [],
   "source": [
    "write_clickhouse(taxitable,connection)\n"
   ]
  },
  {
   "cell_type": "code",
   "execution_count": null,
   "id": "7c6984b8-d600-4788-94e8-9f366c0aa2b5",
   "metadata": {},
   "outputs": [],
   "source": [
    "## We have to be compliant with the clickhouse date type. \n",
    "## we need to force '%Y-%m-%d %H:%M:%S'\n",
    "## force the date format with the defined schema, using pandas\n",
    "features[\"trip_start_timestamp\"] = pd.to_datetime(data[\"trip_start_timestamp\"]).dt.strftime('%Y-%m-%d %H:%M:%S')"
   ]
  },
  {
   "cell_type": "code",
   "execution_count": null,
   "id": "87cee125-13e1-4d5b-8e68-22ab8f1ced22",
   "metadata": {},
   "outputs": [],
   "source": [
    "### insert using the to_clickhouse function\n",
    "ph.to_clickhouse(features, dbtable, index=False, chunksize=100000, connection=connection)"
   ]
  },
  {
   "cell_type": "markdown",
   "id": "d390a816-0c2e-42e8-90aa-15de90e8b053",
   "metadata": {},
   "source": [
    "---"
   ]
  },
  {
   "cell_type": "markdown",
   "id": "39eb2d66-6891-48be-b957-9380519ceba2",
   "metadata": {},
   "source": [
    "## 1.0 Browse UI to see our taxi trips dataset"
   ]
  },
  {
   "cell_type": "markdown",
   "id": "7e1d472d-1e1e-4294-bcc7-bac35a813847",
   "metadata": {},
   "source": [
    "![datahub](./images/datahub.png)"
   ]
  },
  {
   "cell_type": "markdown",
   "id": "39129c93-7983-458b-8f4f-5d9edafdcebd",
   "metadata": {},
   "source": [
    "## 1.1 Create a transformation view on the data  "
   ]
  },
  {
   "cell_type": "markdown",
   "id": "e46097ca-ff38-438a-b707-3fdfb14284ca",
   "metadata": {},
   "source": [
    "Here we want to create a view with only 1 week of data, and see the lineage on the catalog tool"
   ]
  },
  {
   "cell_type": "code",
   "execution_count": null,
   "id": "dc2f394f-bb49-408a-bf28-3fcf61d31f37",
   "metadata": {},
   "outputs": [],
   "source": [
    "dbview='chicago_data_oneweek'"
   ]
  },
  {
   "cell_type": "code",
   "execution_count": null,
   "id": "e436d35f-0b61-46f7-ba34-5ac88a9c3cac",
   "metadata": {},
   "outputs": [],
   "source": [
    "### Create a view from chicago_taxi table\n",
    "# this view will use only last week of available data\n",
    "taxiview = f\"\"\"\n",
    "CREATE view {dbname}.{dbview} as Select * from {dbname}.{dbtable}  where trip_start_timestamp >  (toDateTime('2023-02-01') - INTERVAL 7 DAY)\n",
    "\"\"\""
   ]
  },
  {
   "cell_type": "code",
   "execution_count": null,
   "id": "b05c93fc-044b-4c6c-855c-95b2f0de82f1",
   "metadata": {},
   "outputs": [],
   "source": [
    "write_clickhouse(taxiview,connection)"
   ]
  },
  {
   "cell_type": "markdown",
   "id": "bf7fa7cd-68da-4c47-84a6-00775695c331",
   "metadata": {},
   "source": [
    "## 1.2 Create another view only on geo data"
   ]
  },
  {
   "cell_type": "code",
   "execution_count": null,
   "id": "ca1b2215-efef-44a9-b4a0-d876da622621",
   "metadata": {},
   "outputs": [],
   "source": [
    "dbview='chicago_data_geo'"
   ]
  },
  {
   "cell_type": "code",
   "execution_count": null,
   "id": "28336272-0130-44d0-96e8-c3c97ea735b4",
   "metadata": {},
   "outputs": [],
   "source": [
    "### Create a view from chicago_taxi table\n",
    "# this view will use only last week of available data\n",
    "geoview = f\"\"\"\n",
    "CREATE view {dbname}.{dbview} as Select pickup_community_area, dropoff_community_area from {dbname}.{dbtable}\n",
    "\"\"\""
   ]
  },
  {
   "cell_type": "code",
   "execution_count": null,
   "id": "89ee991c-3833-41b4-b45b-a25a9002bd4d",
   "metadata": {},
   "outputs": [],
   "source": [
    "write_clickhouse(geoview,connection)"
   ]
  },
  {
   "cell_type": "markdown",
   "id": "f59ac76a-0b8b-4df0-b20a-e1cf9e2b2a31",
   "metadata": {},
   "source": [
    "### 1.3 Browse UI to get the lineage link between the table and the view"
   ]
  },
  {
   "cell_type": "markdown",
   "id": "053e3734-ad8b-4195-b055-cf0a1e147795",
   "metadata": {},
   "source": [
    "![lineage](./images/lineage.PNG)"
   ]
  }
 ],
 "metadata": {
  "kernelspec": {
   "display_name": "Python 3 (ipykernel)",
   "language": "python",
   "name": "python3"
  },
  "language_info": {
   "codemirror_mode": {
    "name": "ipython",
    "version": 3
   },
   "file_extension": ".py",
   "mimetype": "text/x-python",
   "name": "python",
   "nbconvert_exporter": "python",
   "pygments_lexer": "ipython3",
   "version": "3.8.10"
  },
  "vscode": {
   "interpreter": {
    "hash": "1db6d0c0fb62fcd92812f526c45c77dc568410c92bb0ad7cc615a53ad33175c5"
   }
  }
 },
 "nbformat": 4,
 "nbformat_minor": 5
}
